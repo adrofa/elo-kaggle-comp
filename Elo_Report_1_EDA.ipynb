{
 "cells": [
  {
   "cell_type": "markdown",
   "metadata": {},
   "source": [
    "<img src=\"header.png\"></img>"
   ]
  },
  {
   "cell_type": "markdown",
   "metadata": {},
   "source": [
    "<div align=\"center\">\n",
    "    <h1>Report on Participation in Kaggle Competition</h1>\n",
    "    <h1>Part I: Introduction, Exploratory Data Analysis and Data Cleaning</h1>\n",
    "</div>"
   ]
  },
  {
   "cell_type": "markdown",
   "metadata": {},
   "source": [
    "<div align=\"center\"><i>\n",
    "In this Jupyter notebook I am getting acquainted with dataset provided in the framework of competition by its originator.<br/>\n",
    "Also you can find a short description of the competition and its goals in the 'Intoduction' paragraph.<br/><br/>\n",
    "Prepared by Artem Drofa.\n",
    "</i></div>"
   ]
  },
  {
   "cell_type": "markdown",
   "metadata": {},
   "source": [
    "## Introduction"
   ]
  },
  {
   "cell_type": "markdown",
   "metadata": {},
   "source": [
    "<b>Kaggle Competition:</b><br/>\n",
    "Elo Merchant Category Recommendation: Help understand customer loyalty [(link)](https://www.kaggle.com/c/elo-merchant-category-recommendation \"Kaggle: Competition\")\n",
    "\n",
    "<b>Competition Originator:</b><br/>\n",
    "[Elo](https://www.elo.com.br/ \"Elo: Homepage\") is one of the major domestic debit and credit card brands of Brazil. <u>(This means that provided data will be related to retail banking clients.)</u>\n",
    "\n",
    "\n",
    "<b>Competition Description:</b><br/>\n",
    "The goal of the competition is to predict a loyalty score for Elo's clients basing on data about their past transactions.<br/>\n",
    "Elo says that their team has developed algorithm for prediction of relevant merchants to their clients. In the framework of the competition Elo provides participants with following data:\n",
    "\n",
    "1. <b>Train & test data sheet</b> (202k & 124k entries, correspondingly), which conssist of unique card id, 1st purchase date, several anonymized features and target loyalty score for train sample.\n",
    "2. <b>History transactions data sheet</b>, which provides data about 29mn transactions of Elo's customers. The data sheet also includes card_id and additional information about the transactions: normalized purchase amount, date, mechant id, merchant category id, city and state ids etc.\n",
    "3. <b>New merchants transactions data sheet</b> is very similar to History transactions data sheet, but includes transactions performed after some reference date and <u>only</u> with merchants, which haven't been met in history transactions data sheet. <i>Supposingly, this reference date is a date of Elo's recommendation system activation.</i>\n",
    "4. <b>Merchants data sheet</b> provides additional information about merchants: average sales and rvenues, several anonymized features, etc.."
   ]
  },
  {
   "cell_type": "markdown",
   "metadata": {},
   "source": [
    "<a id='main_takeaways'></a>\n",
    "## Main Takeaways\n",
    "* Target values are distributed in \\[-17.61; 17.96\\] interval with mean at -0.03 and with ~1.1% outliers at -33.22. These outliers could sufficiently (negatively) influence competition (RMSE) score.\n",
    "*  Distribution of existing features in train and test data sheets looks (visually) similarly. Due to this fact (most likely) there will be no need to rebalance train sample on the model training stage.\n",
    "* There are about 8% of denied transactions in Historical Ttransactions data sheet, which should be taken into account on feature engenering stage.\n",
    "* Since Elo has mentioned in competition description that they'd like to measure the effectiveness of developed reccomendation system, some features, which will show customer behavior dynamics, should be elaborated on feature engeneering stage."
   ]
  },
  {
   "cell_type": "markdown",
   "metadata": {},
   "source": [
    "## Exploratory Data Analysis"
   ]
  },
  {
   "cell_type": "code",
   "execution_count": 1,
   "metadata": {},
   "outputs": [],
   "source": [
    "import pandas as pd\n",
    "import numpy as np\n",
    "\n",
    "import matplotlib.pyplot as plt\n",
    "from sklearn.preprocessing import MinMaxScaler\n",
    "\n",
    "import os\n",
    "import pickle\n",
    "from IPython.core import display as ICD\n",
    "\n",
    "import gc\n",
    "#import warnings\n",
    "#warnings.simplefilter(action='ignore', category=FutureWarning)"
   ]
  },
  {
   "cell_type": "code",
   "execution_count": 2,
   "metadata": {},
   "outputs": [],
   "source": [
    "PATH_TO_DATA = '.../data'"
   ]
  },
  {
   "cell_type": "markdown",
   "metadata": {},
   "source": [
    "### Train and Test Data Sheets"
   ]
  },
  {
   "cell_type": "code",
   "execution_count": 3,
   "metadata": {},
   "outputs": [],
   "source": [
    "train = pd.read_csv(os.path.join(PATH_TO_DATA, 'train.csv'))\n",
    "test = pd.read_csv(os.path.join(PATH_TO_DATA, 'test.csv'))"
   ]
  },
  {
   "cell_type": "markdown",
   "metadata": {},
   "source": [
    "Train and test data sheets preview:"
   ]
  },
  {
   "cell_type": "code",
   "execution_count": 4,
   "metadata": {},
   "outputs": [
    {
     "data": {
      "text/html": [
       "<div>\n",
       "<style scoped>\n",
       "    .dataframe tbody tr th:only-of-type {\n",
       "        vertical-align: middle;\n",
       "    }\n",
       "\n",
       "    .dataframe tbody tr th {\n",
       "        vertical-align: top;\n",
       "    }\n",
       "\n",
       "    .dataframe thead th {\n",
       "        text-align: right;\n",
       "    }\n",
       "</style>\n",
       "<table border=\"1\" class=\"dataframe\">\n",
       "  <thead>\n",
       "    <tr style=\"text-align: right;\">\n",
       "      <th></th>\n",
       "      <th>first_active_month</th>\n",
       "      <th>card_id</th>\n",
       "      <th>feature_1</th>\n",
       "      <th>feature_2</th>\n",
       "      <th>feature_3</th>\n",
       "      <th>target</th>\n",
       "    </tr>\n",
       "  </thead>\n",
       "  <tbody>\n",
       "    <tr>\n",
       "      <th>0</th>\n",
       "      <td>2017-06</td>\n",
       "      <td>C_ID_92a2005557</td>\n",
       "      <td>5</td>\n",
       "      <td>2</td>\n",
       "      <td>1</td>\n",
       "      <td>-0.820283</td>\n",
       "    </tr>\n",
       "    <tr>\n",
       "      <th>1</th>\n",
       "      <td>2017-01</td>\n",
       "      <td>C_ID_3d0044924f</td>\n",
       "      <td>4</td>\n",
       "      <td>1</td>\n",
       "      <td>0</td>\n",
       "      <td>0.392913</td>\n",
       "    </tr>\n",
       "    <tr>\n",
       "      <th>2</th>\n",
       "      <td>2016-08</td>\n",
       "      <td>C_ID_d639edf6cd</td>\n",
       "      <td>2</td>\n",
       "      <td>2</td>\n",
       "      <td>0</td>\n",
       "      <td>0.688056</td>\n",
       "    </tr>\n",
       "    <tr>\n",
       "      <th>3</th>\n",
       "      <td>2017-09</td>\n",
       "      <td>C_ID_186d6a6901</td>\n",
       "      <td>4</td>\n",
       "      <td>3</td>\n",
       "      <td>0</td>\n",
       "      <td>0.142495</td>\n",
       "    </tr>\n",
       "    <tr>\n",
       "      <th>4</th>\n",
       "      <td>2017-11</td>\n",
       "      <td>C_ID_cdbd2c0db2</td>\n",
       "      <td>1</td>\n",
       "      <td>3</td>\n",
       "      <td>0</td>\n",
       "      <td>-0.159749</td>\n",
       "    </tr>\n",
       "  </tbody>\n",
       "</table>\n",
       "</div>"
      ],
      "text/plain": [
       "  first_active_month          card_id  feature_1  feature_2  feature_3  \\\n",
       "0            2017-06  C_ID_92a2005557          5          2          1   \n",
       "1            2017-01  C_ID_3d0044924f          4          1          0   \n",
       "2            2016-08  C_ID_d639edf6cd          2          2          0   \n",
       "3            2017-09  C_ID_186d6a6901          4          3          0   \n",
       "4            2017-11  C_ID_cdbd2c0db2          1          3          0   \n",
       "\n",
       "     target  \n",
       "0 -0.820283  \n",
       "1  0.392913  \n",
       "2  0.688056  \n",
       "3  0.142495  \n",
       "4 -0.159749  "
      ]
     },
     "metadata": {},
     "output_type": "display_data"
    },
    {
     "data": {
      "text/html": [
       "<div>\n",
       "<style scoped>\n",
       "    .dataframe tbody tr th:only-of-type {\n",
       "        vertical-align: middle;\n",
       "    }\n",
       "\n",
       "    .dataframe tbody tr th {\n",
       "        vertical-align: top;\n",
       "    }\n",
       "\n",
       "    .dataframe thead th {\n",
       "        text-align: right;\n",
       "    }\n",
       "</style>\n",
       "<table border=\"1\" class=\"dataframe\">\n",
       "  <thead>\n",
       "    <tr style=\"text-align: right;\">\n",
       "      <th></th>\n",
       "      <th>first_active_month</th>\n",
       "      <th>card_id</th>\n",
       "      <th>feature_1</th>\n",
       "      <th>feature_2</th>\n",
       "      <th>feature_3</th>\n",
       "    </tr>\n",
       "  </thead>\n",
       "  <tbody>\n",
       "    <tr>\n",
       "      <th>0</th>\n",
       "      <td>2017-04</td>\n",
       "      <td>C_ID_0ab67a22ab</td>\n",
       "      <td>3</td>\n",
       "      <td>3</td>\n",
       "      <td>1</td>\n",
       "    </tr>\n",
       "    <tr>\n",
       "      <th>1</th>\n",
       "      <td>2017-01</td>\n",
       "      <td>C_ID_130fd0cbdd</td>\n",
       "      <td>2</td>\n",
       "      <td>3</td>\n",
       "      <td>0</td>\n",
       "    </tr>\n",
       "    <tr>\n",
       "      <th>2</th>\n",
       "      <td>2017-08</td>\n",
       "      <td>C_ID_b709037bc5</td>\n",
       "      <td>5</td>\n",
       "      <td>1</td>\n",
       "      <td>1</td>\n",
       "    </tr>\n",
       "    <tr>\n",
       "      <th>3</th>\n",
       "      <td>2017-12</td>\n",
       "      <td>C_ID_d27d835a9f</td>\n",
       "      <td>2</td>\n",
       "      <td>1</td>\n",
       "      <td>0</td>\n",
       "    </tr>\n",
       "    <tr>\n",
       "      <th>4</th>\n",
       "      <td>2015-12</td>\n",
       "      <td>C_ID_2b5e3df5c2</td>\n",
       "      <td>5</td>\n",
       "      <td>1</td>\n",
       "      <td>1</td>\n",
       "    </tr>\n",
       "  </tbody>\n",
       "</table>\n",
       "</div>"
      ],
      "text/plain": [
       "  first_active_month          card_id  feature_1  feature_2  feature_3\n",
       "0            2017-04  C_ID_0ab67a22ab          3          3          1\n",
       "1            2017-01  C_ID_130fd0cbdd          2          3          0\n",
       "2            2017-08  C_ID_b709037bc5          5          1          1\n",
       "3            2017-12  C_ID_d27d835a9f          2          1          0\n",
       "4            2015-12  C_ID_2b5e3df5c2          5          1          1"
      ]
     },
     "metadata": {},
     "output_type": "display_data"
    }
   ],
   "source": [
    "ICD.display(train.head())\n",
    "ICD.display(test.head())"
   ]
  },
  {
   "cell_type": "code",
   "execution_count": 5,
   "metadata": {},
   "outputs": [],
   "source": [
    "#first_active_date to timestamp format\n",
    "train['first_active_month'] = pd.to_datetime(train['first_active_month'])\n",
    "test['first_active_month'] = pd.to_datetime(test['first_active_month'])"
   ]
  },
  {
   "cell_type": "code",
   "execution_count": 6,
   "metadata": {},
   "outputs": [],
   "source": [
    "#indexing\n",
    "train.index = train['card_id']\n",
    "test.index = test['card_id']"
   ]
  },
  {
   "cell_type": "markdown",
   "metadata": {},
   "source": [
    "Checking if there are any NaN values."
   ]
  },
  {
   "cell_type": "code",
   "execution_count": 7,
   "metadata": {},
   "outputs": [
    {
     "name": "stdout",
     "output_type": "stream",
     "text": [
      "There are NaNs in TRAIN data sheet: False\n",
      "There are NaNs in TEST data sheet: True\n"
     ]
    }
   ],
   "source": [
    "print('There are NaNs in TRAIN data sheet:', train.isnull().values.any())\n",
    "print('There are NaNs in TEST data sheet:', test.isnull().values.any())"
   ]
  },
  {
   "cell_type": "code",
   "execution_count": 8,
   "metadata": {},
   "outputs": [
    {
     "data": {
      "text/plain": [
       "array([1, 0, 0, 0, 0])"
      ]
     },
     "execution_count": 8,
     "metadata": {},
     "output_type": "execute_result"
    }
   ],
   "source": [
    "test.isnull().values.sum(axis=0)"
   ]
  },
  {
   "cell_type": "markdown",
   "metadata": {},
   "source": [
    "Only one NaN in 'first_active_month' column, which (supposingly) could be replaced with 1st purchase date from historical transactions data sheet."
   ]
  },
  {
   "cell_type": "markdown",
   "metadata": {},
   "source": [
    "#### Features\n",
    "Let's have a look on train & test data sheets features' distributions and compare them."
   ]
  },
  {
   "cell_type": "code",
   "execution_count": 9,
   "metadata": {
    "code_folding": []
   },
   "outputs": [
    {
     "data": {
      "image/png": "[encoded data removed]",
      "text/plain": [
       "<Figure size 1080x864 with 2 Axes>"
      ]
     },
     "metadata": {
      "needs_background": "light"
     },
     "output_type": "display_data"
    },
    {
     "data": {
      "image/png": "[encoded data removed]",
      "text/plain": [
       "<Figure size 1080x864 with 2 Axes>"
      ]
     },
     "metadata": {
      "needs_background": "light"
     },
     "output_type": "display_data"
    },
    {
     "data": {
      "image/png": "[encoded data removed]",
      "text/plain": [
       "<Figure size 1080x864 with 2 Axes>"
      ]
     },
     "metadata": {
      "needs_background": "light"
     },
     "output_type": "display_data"
    },
    {
     "data": {
      "image/png": "[encoded data removed]",
      "text/plain": [
       "<Figure size 1080x864 with 2 Axes>"
      ]
     },
     "metadata": {
      "needs_background": "light"
     },
     "output_type": "display_data"
    }
   ],
   "source": [
    "subplot = 1\n",
    "for f in train.columns:\n",
    "    if f not in ['card_id', 'target']:\n",
    "        \n",
    "        #General\n",
    "        plt.figure(figsize=(15,12))\n",
    "        xlim = (min( train[f].min(), test[f].min() ),\n",
    "                max( train[f].max(), test[f].max() ))\n",
    "        \n",
    "        #Train\n",
    "        plt.subplot(4, 2, subplot)\n",
    "        plt.hist(train[f].dropna(), color='#00a5e1')\n",
    "        plt.title('Train: '+f)\n",
    "        plt.xlim(xlim)\n",
    "        ylim = plt.ylim()\n",
    "        subplot+=1\n",
    "        \n",
    "        #Test\n",
    "        plt.subplot(4, 2, subplot)\n",
    "        plt.hist(test[f].dropna(), color='#ffcc02')\n",
    "        plt.title('Test: '+f)\n",
    "        plt.xlim(xlim)\n",
    "        #plt.ylim(ylim) #uncomment for y-axis assimilation \n",
    "        subplot+=1\n",
    "\n",
    "pass"
   ]
  },
  {
   "cell_type": "markdown",
   "metadata": {},
   "source": [
    "<b>Note</b>:<br/>\n",
    "It could be said, that distributions of features given in train and test data sheets are quite similar, which (hopefully) won't require any train sample rebalance while model training."
   ]
  },
  {
   "cell_type": "markdown",
   "metadata": {},
   "source": [
    "#### Target\n",
    "Let's have a look at target value distribution."
   ]
  },
  {
   "cell_type": "code",
   "execution_count": 10,
   "metadata": {},
   "outputs": [
    {
     "data": {
      "image/png": "[encoded data removed]",
      "text/plain": [
       "<Figure size 1080x288 with 2 Axes>"
      ]
     },
     "metadata": {
      "needs_background": "light"
     },
     "output_type": "display_data"
    }
   ],
   "source": [
    "plt.figure(figsize=(15,4))\n",
    "\n",
    "#Target\n",
    "plt.subplot(121)\n",
    "plt.hist(train['target'], bins=100, color='#00a5e1')\n",
    "plt.title('Train: Target')\n",
    "\n",
    "#Target w/o Outliers\n",
    "plt.subplot(122)\n",
    "import seaborn as sns\n",
    "plt.hist(train[train['target']>train['target'].min()]['target'], bins=50, color='#ffcc02')\n",
    "plt.title('Train: Target w/o Outliers')\n",
    "\n",
    "pass"
   ]
  },
  {
   "cell_type": "markdown",
   "metadata": {},
   "source": [
    "Histograms shows, that distribution of target value looks very similar to normal distribution, except several outliers.<br/>\n",
    "Due to the fact that competition results evaluation will be based on <b>RMSE\\*</b> the presence of these outliers among test targets could sufficiently affect final result.<br/>\n",
    "<i>\\*RMSE - root-mean-square error.</i>"
   ]
  },
  {
   "cell_type": "code",
   "execution_count": 11,
   "metadata": {},
   "outputs": [
    {
     "name": "stdout",
     "output_type": "stream",
     "text": [
      "Outliers' value: -33.21928095\n",
      "%-age of outliers: 1.0930233709890698 %\n",
      "Mean w/o outliers: -0.03087931272485137\n",
      "Mean including outliers: -0.39363629907797143\n"
     ]
    }
   ],
   "source": [
    "print('Outliers\\' value:', train['target'].min())\n",
    "print('%-age of outliers:',\n",
    "      train[train['target']==train['target'].min()].shape[0] / train.shape[0] * 100, '%')\n",
    "print('Mean w/o outliers:', train[train['target']>train['target'].min()]['target'].mean())\n",
    "print('Mean including outliers:', train['target'].mean())"
   ]
  },
  {
   "cell_type": "markdown",
   "metadata": {},
   "source": [
    "### Historical Transactions and New Merchant Transactions Data Sheets"
   ]
  },
  {
   "cell_type": "markdown",
   "metadata": {},
   "source": [
    "#### Memory Usage Optimization"
   ]
  },
  {
   "cell_type": "markdown",
   "metadata": {},
   "source": [
    "Before analysis start, let's optimize memory usage and save optimized data sheets as pickle files. "
   ]
  },
  {
   "cell_type": "code",
   "execution_count": 12,
   "metadata": {},
   "outputs": [],
   "source": [
    "# Reduce Memory Function\n",
    "# (https://www.kaggle.com/roydatascience/elo-stack-interactions-on-categorical-variables)\n",
    "def reduce_mem_usage(df, verbose=True):\n",
    "    numerics = ['int16', 'int32', 'int64', 'float16', 'float32', 'float64']\n",
    "    start_mem = df.memory_usage().sum() / 1024**2    \n",
    "    for col in df.columns:\n",
    "        col_type = df[col].dtypes\n",
    "        if col_type in numerics:\n",
    "            c_min = df[col].min()\n",
    "            c_max = df[col].max()\n",
    "            if str(col_type)[:3] == 'int':\n",
    "                if c_min > np.iinfo(np.int8).min and c_max < np.iinfo(np.int8).max:\n",
    "                    df[col] = df[col].astype(np.int8)\n",
    "                elif c_min > np.iinfo(np.int16).min and c_max < np.iinfo(np.int16).max:\n",
    "                    df[col] = df[col].astype(np.int16)\n",
    "                elif c_min > np.iinfo(np.int32).min and c_max < np.iinfo(np.int32).max:\n",
    "                    df[col] = df[col].astype(np.int32)\n",
    "                elif c_min > np.iinfo(np.int64).min and c_max < np.iinfo(np.int64).max:\n",
    "                    df[col] = df[col].astype(np.int64)  \n",
    "            else:\n",
    "                if c_min > np.finfo(np.float16).min and c_max < np.finfo(np.float16).max:\n",
    "                    df[col] = df[col].astype(np.float16)\n",
    "                elif c_min > np.finfo(np.float32).min and c_max < np.finfo(np.float32).max:\n",
    "                    df[col] = df[col].astype(np.float32)\n",
    "                else:\n",
    "                    df[col] = df[col].astype(np.float64)    \n",
    "    end_mem = df.memory_usage().sum() / 1024**2\n",
    "    if verbose: print('Mem. usage decreased to {:5.2f} Mb ({:.1f}% reduction)'\n",
    "                      .format(end_mem, 100 * (start_mem - end_mem) / start_mem))\n",
    "    return df"
   ]
  },
  {
   "cell_type": "code",
   "execution_count": 13,
   "metadata": {},
   "outputs": [
    {
     "name": "stdout",
     "output_type": "stream",
     "text": [
      "Mem. usage decreased to 1749.11 Mb (43.7% reduction)\n",
      "Mem. usage decreased to 114.20 Mb (45.5% reduction)\n"
     ]
    }
   ],
   "source": [
    "#Historical transactions data sheet\n",
    "hist_trans = pd.read_csv(os.path.join(PATH_TO_DATA, 'historical_transactions.csv'))\n",
    "with open(os.path.join(PATH_TO_DATA, 'hist_trans_reduced_mem_usage.pkl'), 'wb') as pkl_f:\n",
    "    pickle.dump(reduce_mem_usage(hist_trans), pkl_f)\n",
    "\n",
    "del hist_trans\n",
    "gc.collect()\n",
    "\n",
    "#New merchant transactions data sheet\n",
    "new_trans = pd.read_csv(os.path.join(PATH_TO_DATA, 'new_merchant_transactions.csv'))\n",
    "with open(os.path.join(PATH_TO_DATA, 'new_trans_reduced_mem_usage.pkl'), 'wb') as pkl_f:\n",
    "    pickle.dump(reduce_mem_usage(new_trans), pkl_f)\n",
    "    \n",
    "del new_trans\n",
    "gc.collect()\n",
    "\n",
    "pass"
   ]
  },
  {
   "cell_type": "markdown",
   "metadata": {},
   "source": [
    "#### Analysis"
   ]
  },
  {
   "cell_type": "code",
   "execution_count": 14,
   "metadata": {},
   "outputs": [],
   "source": [
    "#Loading optimized data sheets\n",
    "with open(os.path.join(PATH_TO_DATA, 'hist_trans_reduced_mem_usage.pkl'), 'rb') as pkl_f:\n",
    "    hist_trans = pickle.load(pkl_f)\n",
    "with open(os.path.join(PATH_TO_DATA, 'new_trans_reduced_mem_usage.pkl'), 'rb') as pkl_f:\n",
    "    new_trans = pickle.load(pkl_f)"
   ]
  },
  {
   "cell_type": "code",
   "execution_count": 15,
   "metadata": {},
   "outputs": [
    {
     "data": {
      "text/html": [
       "<div>\n",
       "<style scoped>\n",
       "    .dataframe tbody tr th:only-of-type {\n",
       "        vertical-align: middle;\n",
       "    }\n",
       "\n",
       "    .dataframe tbody tr th {\n",
       "        vertical-align: top;\n",
       "    }\n",
       "\n",
       "    .dataframe thead th {\n",
       "        text-align: right;\n",
       "    }\n",
       "</style>\n",
       "<table border=\"1\" class=\"dataframe\">\n",
       "  <thead>\n",
       "    <tr style=\"text-align: right;\">\n",
       "      <th></th>\n",
       "      <th>authorized_flag</th>\n",
       "      <th>card_id</th>\n",
       "      <th>city_id</th>\n",
       "      <th>category_1</th>\n",
       "      <th>installments</th>\n",
       "      <th>category_3</th>\n",
       "      <th>merchant_category_id</th>\n",
       "      <th>merchant_id</th>\n",
       "      <th>month_lag</th>\n",
       "      <th>purchase_amount</th>\n",
       "      <th>purchase_date</th>\n",
       "      <th>category_2</th>\n",
       "      <th>state_id</th>\n",
       "      <th>subsector_id</th>\n",
       "    </tr>\n",
       "  </thead>\n",
       "  <tbody>\n",
       "    <tr>\n",
       "      <th>0</th>\n",
       "      <td>Y</td>\n",
       "      <td>C_ID_4e6213e9bc</td>\n",
       "      <td>88</td>\n",
       "      <td>N</td>\n",
       "      <td>0</td>\n",
       "      <td>A</td>\n",
       "      <td>80</td>\n",
       "      <td>M_ID_e020e9b302</td>\n",
       "      <td>-8</td>\n",
       "      <td>-0.703331</td>\n",
       "      <td>2017-06-25 15:33:07</td>\n",
       "      <td>1.0</td>\n",
       "      <td>16</td>\n",
       "      <td>37</td>\n",
       "    </tr>\n",
       "    <tr>\n",
       "      <th>1</th>\n",
       "      <td>Y</td>\n",
       "      <td>C_ID_4e6213e9bc</td>\n",
       "      <td>88</td>\n",
       "      <td>N</td>\n",
       "      <td>0</td>\n",
       "      <td>A</td>\n",
       "      <td>367</td>\n",
       "      <td>M_ID_86ec983688</td>\n",
       "      <td>-7</td>\n",
       "      <td>-0.733128</td>\n",
       "      <td>2017-07-15 12:10:45</td>\n",
       "      <td>1.0</td>\n",
       "      <td>16</td>\n",
       "      <td>16</td>\n",
       "    </tr>\n",
       "    <tr>\n",
       "      <th>2</th>\n",
       "      <td>Y</td>\n",
       "      <td>C_ID_4e6213e9bc</td>\n",
       "      <td>88</td>\n",
       "      <td>N</td>\n",
       "      <td>0</td>\n",
       "      <td>A</td>\n",
       "      <td>80</td>\n",
       "      <td>M_ID_979ed661fc</td>\n",
       "      <td>-6</td>\n",
       "      <td>-0.720386</td>\n",
       "      <td>2017-08-09 22:04:29</td>\n",
       "      <td>1.0</td>\n",
       "      <td>16</td>\n",
       "      <td>37</td>\n",
       "    </tr>\n",
       "    <tr>\n",
       "      <th>3</th>\n",
       "      <td>Y</td>\n",
       "      <td>C_ID_4e6213e9bc</td>\n",
       "      <td>88</td>\n",
       "      <td>N</td>\n",
       "      <td>0</td>\n",
       "      <td>A</td>\n",
       "      <td>560</td>\n",
       "      <td>M_ID_e6d5ae8ea6</td>\n",
       "      <td>-5</td>\n",
       "      <td>-0.735352</td>\n",
       "      <td>2017-09-02 10:06:26</td>\n",
       "      <td>1.0</td>\n",
       "      <td>16</td>\n",
       "      <td>34</td>\n",
       "    </tr>\n",
       "    <tr>\n",
       "      <th>4</th>\n",
       "      <td>Y</td>\n",
       "      <td>C_ID_4e6213e9bc</td>\n",
       "      <td>88</td>\n",
       "      <td>N</td>\n",
       "      <td>0</td>\n",
       "      <td>A</td>\n",
       "      <td>80</td>\n",
       "      <td>M_ID_e020e9b302</td>\n",
       "      <td>-11</td>\n",
       "      <td>-0.722865</td>\n",
       "      <td>2017-03-10 01:14:19</td>\n",
       "      <td>1.0</td>\n",
       "      <td>16</td>\n",
       "      <td>37</td>\n",
       "    </tr>\n",
       "  </tbody>\n",
       "</table>\n",
       "</div>"
      ],
      "text/plain": [
       "  authorized_flag          card_id  city_id category_1  installments  \\\n",
       "0               Y  C_ID_4e6213e9bc       88          N             0   \n",
       "1               Y  C_ID_4e6213e9bc       88          N             0   \n",
       "2               Y  C_ID_4e6213e9bc       88          N             0   \n",
       "3               Y  C_ID_4e6213e9bc       88          N             0   \n",
       "4               Y  C_ID_4e6213e9bc       88          N             0   \n",
       "\n",
       "  category_3  merchant_category_id      merchant_id  month_lag  \\\n",
       "0          A                    80  M_ID_e020e9b302         -8   \n",
       "1          A                   367  M_ID_86ec983688         -7   \n",
       "2          A                    80  M_ID_979ed661fc         -6   \n",
       "3          A                   560  M_ID_e6d5ae8ea6         -5   \n",
       "4          A                    80  M_ID_e020e9b302        -11   \n",
       "\n",
       "   purchase_amount        purchase_date  category_2  state_id  subsector_id  \n",
       "0        -0.703331  2017-06-25 15:33:07         1.0        16            37  \n",
       "1        -0.733128  2017-07-15 12:10:45         1.0        16            16  \n",
       "2        -0.720386  2017-08-09 22:04:29         1.0        16            37  \n",
       "3        -0.735352  2017-09-02 10:06:26         1.0        16            34  \n",
       "4        -0.722865  2017-03-10 01:14:19         1.0        16            37  "
      ]
     },
     "metadata": {},
     "output_type": "display_data"
    },
    {
     "data": {
      "text/html": [
       "<div>\n",
       "<style scoped>\n",
       "    .dataframe tbody tr th:only-of-type {\n",
       "        vertical-align: middle;\n",
       "    }\n",
       "\n",
       "    .dataframe tbody tr th {\n",
       "        vertical-align: top;\n",
       "    }\n",
       "\n",
       "    .dataframe thead th {\n",
       "        text-align: right;\n",
       "    }\n",
       "</style>\n",
       "<table border=\"1\" class=\"dataframe\">\n",
       "  <thead>\n",
       "    <tr style=\"text-align: right;\">\n",
       "      <th></th>\n",
       "      <th>authorized_flag</th>\n",
       "      <th>card_id</th>\n",
       "      <th>city_id</th>\n",
       "      <th>category_1</th>\n",
       "      <th>installments</th>\n",
       "      <th>category_3</th>\n",
       "      <th>merchant_category_id</th>\n",
       "      <th>merchant_id</th>\n",
       "      <th>month_lag</th>\n",
       "      <th>purchase_amount</th>\n",
       "      <th>purchase_date</th>\n",
       "      <th>category_2</th>\n",
       "      <th>state_id</th>\n",
       "      <th>subsector_id</th>\n",
       "    </tr>\n",
       "  </thead>\n",
       "  <tbody>\n",
       "    <tr>\n",
       "      <th>0</th>\n",
       "      <td>Y</td>\n",
       "      <td>C_ID_415bb3a509</td>\n",
       "      <td>107</td>\n",
       "      <td>N</td>\n",
       "      <td>1</td>\n",
       "      <td>B</td>\n",
       "      <td>307</td>\n",
       "      <td>M_ID_b0c793002c</td>\n",
       "      <td>1</td>\n",
       "      <td>-0.557617</td>\n",
       "      <td>2018-03-11 14:57:36</td>\n",
       "      <td>1.0</td>\n",
       "      <td>9</td>\n",
       "      <td>19</td>\n",
       "    </tr>\n",
       "    <tr>\n",
       "      <th>1</th>\n",
       "      <td>Y</td>\n",
       "      <td>C_ID_415bb3a509</td>\n",
       "      <td>140</td>\n",
       "      <td>N</td>\n",
       "      <td>1</td>\n",
       "      <td>B</td>\n",
       "      <td>307</td>\n",
       "      <td>M_ID_88920c89e8</td>\n",
       "      <td>1</td>\n",
       "      <td>-0.569336</td>\n",
       "      <td>2018-03-19 18:53:37</td>\n",
       "      <td>1.0</td>\n",
       "      <td>9</td>\n",
       "      <td>19</td>\n",
       "    </tr>\n",
       "    <tr>\n",
       "      <th>2</th>\n",
       "      <td>Y</td>\n",
       "      <td>C_ID_415bb3a509</td>\n",
       "      <td>330</td>\n",
       "      <td>N</td>\n",
       "      <td>1</td>\n",
       "      <td>B</td>\n",
       "      <td>507</td>\n",
       "      <td>M_ID_ad5237ef6b</td>\n",
       "      <td>2</td>\n",
       "      <td>-0.551270</td>\n",
       "      <td>2018-04-26 14:08:44</td>\n",
       "      <td>1.0</td>\n",
       "      <td>9</td>\n",
       "      <td>14</td>\n",
       "    </tr>\n",
       "    <tr>\n",
       "      <th>3</th>\n",
       "      <td>Y</td>\n",
       "      <td>C_ID_415bb3a509</td>\n",
       "      <td>-1</td>\n",
       "      <td>Y</td>\n",
       "      <td>1</td>\n",
       "      <td>B</td>\n",
       "      <td>661</td>\n",
       "      <td>M_ID_9e84cda3b1</td>\n",
       "      <td>1</td>\n",
       "      <td>-0.671875</td>\n",
       "      <td>2018-03-07 09:43:21</td>\n",
       "      <td>NaN</td>\n",
       "      <td>-1</td>\n",
       "      <td>8</td>\n",
       "    </tr>\n",
       "    <tr>\n",
       "      <th>4</th>\n",
       "      <td>Y</td>\n",
       "      <td>C_ID_ef55cf8d4b</td>\n",
       "      <td>-1</td>\n",
       "      <td>Y</td>\n",
       "      <td>1</td>\n",
       "      <td>B</td>\n",
       "      <td>166</td>\n",
       "      <td>M_ID_3c86fa3831</td>\n",
       "      <td>1</td>\n",
       "      <td>-0.659668</td>\n",
       "      <td>2018-03-22 21:07:53</td>\n",
       "      <td>NaN</td>\n",
       "      <td>-1</td>\n",
       "      <td>29</td>\n",
       "    </tr>\n",
       "  </tbody>\n",
       "</table>\n",
       "</div>"
      ],
      "text/plain": [
       "  authorized_flag          card_id  city_id category_1  installments  \\\n",
       "0               Y  C_ID_415bb3a509      107          N             1   \n",
       "1               Y  C_ID_415bb3a509      140          N             1   \n",
       "2               Y  C_ID_415bb3a509      330          N             1   \n",
       "3               Y  C_ID_415bb3a509       -1          Y             1   \n",
       "4               Y  C_ID_ef55cf8d4b       -1          Y             1   \n",
       "\n",
       "  category_3  merchant_category_id      merchant_id  month_lag  \\\n",
       "0          B                   307  M_ID_b0c793002c          1   \n",
       "1          B                   307  M_ID_88920c89e8          1   \n",
       "2          B                   507  M_ID_ad5237ef6b          2   \n",
       "3          B                   661  M_ID_9e84cda3b1          1   \n",
       "4          B                   166  M_ID_3c86fa3831          1   \n",
       "\n",
       "   purchase_amount        purchase_date  category_2  state_id  subsector_id  \n",
       "0        -0.557617  2018-03-11 14:57:36         1.0         9            19  \n",
       "1        -0.569336  2018-03-19 18:53:37         1.0         9            19  \n",
       "2        -0.551270  2018-04-26 14:08:44         1.0         9            14  \n",
       "3        -0.671875  2018-03-07 09:43:21         NaN        -1             8  \n",
       "4        -0.659668  2018-03-22 21:07:53         NaN        -1            29  "
      ]
     },
     "metadata": {},
     "output_type": "display_data"
    }
   ],
   "source": [
    "ICD.display(hist_trans.head())\n",
    "ICD.display(new_trans.head())"
   ]
  },
  {
   "cell_type": "markdown",
   "metadata": {},
   "source": [
    "#### Missing Values "
   ]
  },
  {
   "cell_type": "markdown",
   "metadata": {},
   "source": [
    "Checking if there are any NaN values."
   ]
  },
  {
   "cell_type": "code",
   "execution_count": 16,
   "metadata": {},
   "outputs": [
    {
     "name": "stdout",
     "output_type": "stream",
     "text": [
      "There are NaNs in hist_trans: True\n",
      "There are NaNs in new_trans: True\n"
     ]
    }
   ],
   "source": [
    "print('There are NaNs in hist_trans:', hist_trans.isnull().values.any())\n",
    "print('There are NaNs in new_trans:', new_trans.isnull().values.any())"
   ]
  },
  {
   "cell_type": "markdown",
   "metadata": {},
   "source": [
    "Let's dive deeper and count total amount of NaNs in each column."
   ]
  },
  {
   "cell_type": "code",
   "execution_count": 17,
   "metadata": {},
   "outputs": [
    {
     "data": {
      "text/html": [
       "<div>\n",
       "<style scoped>\n",
       "    .dataframe tbody tr th:only-of-type {\n",
       "        vertical-align: middle;\n",
       "    }\n",
       "\n",
       "    .dataframe tbody tr th {\n",
       "        vertical-align: top;\n",
       "    }\n",
       "\n",
       "    .dataframe thead th {\n",
       "        text-align: right;\n",
       "    }\n",
       "</style>\n",
       "<table border=\"1\" class=\"dataframe\">\n",
       "  <thead>\n",
       "    <tr style=\"text-align: right;\">\n",
       "      <th></th>\n",
       "      <th>hist_trans NaNs</th>\n",
       "      <th>new_trans NaNs</th>\n",
       "    </tr>\n",
       "  </thead>\n",
       "  <tbody>\n",
       "    <tr>\n",
       "      <th>authorized_flag</th>\n",
       "      <td>0</td>\n",
       "      <td>0</td>\n",
       "    </tr>\n",
       "    <tr>\n",
       "      <th>card_id</th>\n",
       "      <td>0</td>\n",
       "      <td>0</td>\n",
       "    </tr>\n",
       "    <tr>\n",
       "      <th>city_id</th>\n",
       "      <td>0</td>\n",
       "      <td>0</td>\n",
       "    </tr>\n",
       "    <tr>\n",
       "      <th>category_1</th>\n",
       "      <td>0</td>\n",
       "      <td>0</td>\n",
       "    </tr>\n",
       "    <tr>\n",
       "      <th>installments</th>\n",
       "      <td>0</td>\n",
       "      <td>0</td>\n",
       "    </tr>\n",
       "    <tr>\n",
       "      <th>category_3</th>\n",
       "      <td>178159</td>\n",
       "      <td>55922</td>\n",
       "    </tr>\n",
       "    <tr>\n",
       "      <th>merchant_category_id</th>\n",
       "      <td>0</td>\n",
       "      <td>0</td>\n",
       "    </tr>\n",
       "    <tr>\n",
       "      <th>merchant_id</th>\n",
       "      <td>138481</td>\n",
       "      <td>26216</td>\n",
       "    </tr>\n",
       "    <tr>\n",
       "      <th>month_lag</th>\n",
       "      <td>0</td>\n",
       "      <td>0</td>\n",
       "    </tr>\n",
       "    <tr>\n",
       "      <th>purchase_amount</th>\n",
       "      <td>0</td>\n",
       "      <td>0</td>\n",
       "    </tr>\n",
       "    <tr>\n",
       "      <th>purchase_date</th>\n",
       "      <td>0</td>\n",
       "      <td>0</td>\n",
       "    </tr>\n",
       "    <tr>\n",
       "      <th>category_2</th>\n",
       "      <td>2652864</td>\n",
       "      <td>111745</td>\n",
       "    </tr>\n",
       "    <tr>\n",
       "      <th>state_id</th>\n",
       "      <td>0</td>\n",
       "      <td>0</td>\n",
       "    </tr>\n",
       "    <tr>\n",
       "      <th>subsector_id</th>\n",
       "      <td>0</td>\n",
       "      <td>0</td>\n",
       "    </tr>\n",
       "  </tbody>\n",
       "</table>\n",
       "</div>"
      ],
      "text/plain": [
       "                      hist_trans NaNs  new_trans NaNs\n",
       "authorized_flag                     0               0\n",
       "card_id                             0               0\n",
       "city_id                             0               0\n",
       "category_1                          0               0\n",
       "installments                        0               0\n",
       "category_3                     178159           55922\n",
       "merchant_category_id                0               0\n",
       "merchant_id                    138481           26216\n",
       "month_lag                           0               0\n",
       "purchase_amount                     0               0\n",
       "purchase_date                       0               0\n",
       "category_2                    2652864          111745\n",
       "state_id                            0               0\n",
       "subsector_id                        0               0"
      ]
     },
     "execution_count": 17,
     "metadata": {},
     "output_type": "execute_result"
    }
   ],
   "source": [
    "hist_trans_NaNs = pd.DataFrame(hist_trans.isnull().sum(axis=0), columns=['hist_trans NaNs'])\n",
    "new_trans_NaNs = pd.DataFrame(new_trans.isnull().sum(axis=0), columns=['new_trans NaNs'])\n",
    "\n",
    "hist_trans_NaNs.merge(new_trans_NaNs ,left_index=True, right_index=True)"
   ]
  },
  {
   "cell_type": "markdown",
   "metadata": {},
   "source": [
    "1. NaNs are in the same columns of hist_trans and new_trans data sheets;\n",
    "2. NaNs are in categorical features only.\n",
    "\n",
    "Considering the fact that NaNs are in categorical features only, I do not see any reason (by current stage) to replace NaNs with any specific value (because, most likely categorical features will be one-hot encoded at feature engeneering stage)."
   ]
  },
  {
   "cell_type": "markdown",
   "metadata": {},
   "source": [
    "#### Missing Values in Categorical Features (marked with -1)\n",
    "Looking at data sheets preview it could be noticed, that there are some interconnection between city_id, category_1, category_2 and state_id features: -1 correlates with NaNs.<br/>For every object (in both samples: hist_trans, new_trans) NaNs in category_2 lead to -1 in state_id and vice versa."
   ]
  },
  {
   "cell_type": "code",
   "execution_count": 18,
   "metadata": {},
   "outputs": [
    {
     "name": "stdout",
     "output_type": "stream",
     "text": [
      "[-1]\n",
      "[nan]\n",
      "[-1]\n",
      "[nan]\n"
     ]
    }
   ],
   "source": [
    "print(hist_trans[hist_trans['category_2'].isnull()]['state_id'].unique())\n",
    "print(hist_trans[hist_trans['state_id'] == -1]['category_2'].unique())\n",
    "\n",
    "print(new_trans[new_trans['category_2'].isnull()]['state_id'].unique())\n",
    "print(new_trans[new_trans['state_id'] == -1]['category_2'].unique())"
   ]
  },
  {
   "cell_type": "markdown",
   "metadata": {},
   "source": [
    "Also there is information from Elo on competition forum that <b>-1 values are missing values</b>. Let's replace them with NaN for <u>categorical</u> features only."
   ]
  },
  {
   "cell_type": "code",
   "execution_count": 19,
   "metadata": {},
   "outputs": [
    {
     "data": {
      "text/html": [
       "<div>\n",
       "<style scoped>\n",
       "    .dataframe tbody tr th:only-of-type {\n",
       "        vertical-align: middle;\n",
       "    }\n",
       "\n",
       "    .dataframe tbody tr th {\n",
       "        vertical-align: top;\n",
       "    }\n",
       "\n",
       "    .dataframe thead th {\n",
       "        text-align: right;\n",
       "    }\n",
       "</style>\n",
       "<table border=\"1\" class=\"dataframe\">\n",
       "  <thead>\n",
       "    <tr style=\"text-align: right;\">\n",
       "      <th></th>\n",
       "      <th>hist_trans -1</th>\n",
       "      <th>new_trans -1</th>\n",
       "    </tr>\n",
       "  </thead>\n",
       "  <tbody>\n",
       "    <tr>\n",
       "      <th>authorized_flag</th>\n",
       "      <td>0</td>\n",
       "      <td>0</td>\n",
       "    </tr>\n",
       "    <tr>\n",
       "      <th>card_id</th>\n",
       "      <td>0</td>\n",
       "      <td>0</td>\n",
       "    </tr>\n",
       "    <tr>\n",
       "      <th>city_id</th>\n",
       "      <td>2478624</td>\n",
       "      <td>99349</td>\n",
       "    </tr>\n",
       "    <tr>\n",
       "      <th>category_1</th>\n",
       "      <td>0</td>\n",
       "      <td>0</td>\n",
       "    </tr>\n",
       "    <tr>\n",
       "      <th>installments</th>\n",
       "      <td>178159</td>\n",
       "      <td>55922</td>\n",
       "    </tr>\n",
       "    <tr>\n",
       "      <th>category_3</th>\n",
       "      <td>0</td>\n",
       "      <td>0</td>\n",
       "    </tr>\n",
       "    <tr>\n",
       "      <th>merchant_category_id</th>\n",
       "      <td>2252</td>\n",
       "      <td>20</td>\n",
       "    </tr>\n",
       "    <tr>\n",
       "      <th>merchant_id</th>\n",
       "      <td>0</td>\n",
       "      <td>0</td>\n",
       "    </tr>\n",
       "    <tr>\n",
       "      <th>month_lag</th>\n",
       "      <td>3627430</td>\n",
       "      <td>0</td>\n",
       "    </tr>\n",
       "    <tr>\n",
       "      <th>purchase_amount</th>\n",
       "      <td>0</td>\n",
       "      <td>0</td>\n",
       "    </tr>\n",
       "    <tr>\n",
       "      <th>purchase_date</th>\n",
       "      <td>0</td>\n",
       "      <td>0</td>\n",
       "    </tr>\n",
       "    <tr>\n",
       "      <th>category_2</th>\n",
       "      <td>0</td>\n",
       "      <td>0</td>\n",
       "    </tr>\n",
       "    <tr>\n",
       "      <th>state_id</th>\n",
       "      <td>2652864</td>\n",
       "      <td>111745</td>\n",
       "    </tr>\n",
       "    <tr>\n",
       "      <th>subsector_id</th>\n",
       "      <td>2252</td>\n",
       "      <td>20</td>\n",
       "    </tr>\n",
       "  </tbody>\n",
       "</table>\n",
       "</div>"
      ],
      "text/plain": [
       "                      hist_trans -1  new_trans -1\n",
       "authorized_flag                   0             0\n",
       "card_id                           0             0\n",
       "city_id                     2478624         99349\n",
       "category_1                        0             0\n",
       "installments                 178159         55922\n",
       "category_3                        0             0\n",
       "merchant_category_id           2252            20\n",
       "merchant_id                       0             0\n",
       "month_lag                   3627430             0\n",
       "purchase_amount                   0             0\n",
       "purchase_date                     0             0\n",
       "category_2                        0             0\n",
       "state_id                    2652864        111745\n",
       "subsector_id                   2252            20"
      ]
     },
     "execution_count": 19,
     "metadata": {},
     "output_type": "execute_result"
    }
   ],
   "source": [
    "hist_trans_minus_1 = pd.DataFrame((hist_trans == -1).sum(axis=0), columns=['hist_trans -1'])\n",
    "new_trans_minus_1 = pd.DataFrame((new_trans == -1).sum(axis=0), columns=['new_trans -1'])\n",
    "\n",
    "hist_trans_minus_1.merge(new_trans_minus_1 ,left_index=True, right_index=True)"
   ]
  },
  {
   "cell_type": "code",
   "execution_count": 20,
   "metadata": {},
   "outputs": [],
   "source": [
    "for f in ['city_id', 'merchant_category_id', 'state_id', 'subsector_id']:\n",
    "    hist_trans[f] = hist_trans[f].replace(-1, np.nan)\n",
    "    new_trans[f] = new_trans[f].replace(-1, np.nan)"
   ]
  },
  {
   "cell_type": "markdown",
   "metadata": {},
   "source": [
    "#### Authorized/ Denied Transactions"
   ]
  },
  {
   "cell_type": "markdown",
   "metadata": {},
   "source": [
    "According to dictionary, provided by Elo (competition originator), authorized_flag feature means approved if 'Y' and denied if 'N'. Let's have a look at %-age of denied transactions in both samples."
   ]
  },
  {
   "cell_type": "code",
   "execution_count": 21,
   "metadata": {},
   "outputs": [
    {
     "name": "stdout",
     "output_type": "stream",
     "text": [
      "%-age of denied transactions:\n",
      "- in hist_trans data sheet: 8.64549941517969 %\n",
      "- in new_trans data sheet: 0.0 %\n"
     ]
    }
   ],
   "source": [
    "print('%-age of denied transactions:')\n",
    "print('- in hist_trans data sheet:',\n",
    "      hist_trans[hist_trans['authorized_flag'] == 'N'].shape[0] / hist_trans.shape[0] * 100, '%')\n",
    "print('- in new_trans data sheet:',\n",
    "      new_trans[new_trans['authorized_flag'] == 'N'].shape[0] / new_trans.shape[0] * 100, '%')"
   ]
  },
  {
   "cell_type": "markdown",
   "metadata": {},
   "source": [
    "Let's have a look, at a share of authorized transactions for each card_id."
   ]
  },
  {
   "cell_type": "code",
   "execution_count": 22,
   "metadata": {},
   "outputs": [],
   "source": [
    "hist_trans['authorized_flag'] = hist_trans['authorized_flag'].map({'Y':1, 'N':0})\n",
    "new_trans['authorized_flag'] = new_trans['authorized_flag'].map({'Y':1, 'N':0})"
   ]
  },
  {
   "cell_type": "code",
   "execution_count": 23,
   "metadata": {},
   "outputs": [],
   "source": [
    "auth_share = hist_trans.groupby(['card_id'])['authorized_flag'].mean()"
   ]
  },
  {
   "cell_type": "code",
   "execution_count": 24,
   "metadata": {
    "scrolled": true
   },
   "outputs": [
    {
     "data": {
      "image/png": "[encoded data removed]",
      "text/plain": [
       "<Figure size 432x288 with 1 Axes>"
      ]
     },
     "metadata": {
      "needs_background": "light"
     },
     "output_type": "display_data"
    }
   ],
   "source": [
    "plt.hist(auth_share)\n",
    "pass"
   ]
  },
  {
   "cell_type": "markdown",
   "metadata": {},
   "source": [
    "For most of card_ids most of transactions were authorized, but there are some card_ids, which share of authorized transactions is extremely low.\n",
    "\n",
    "Let's have a look at following relationships:\n",
    "1. share of authorized transactions against total num of transaction;\n",
    "2. share of authorized transactions against loyalty score (target)."
   ]
  },
  {
   "cell_type": "code",
   "execution_count": 25,
   "metadata": {},
   "outputs": [
    {
     "data": {
      "image/png": "[encoded data removed]",
      "text/plain": [
       "<Figure size 1080x288 with 2 Axes>"
      ]
     },
     "metadata": {
      "needs_background": "light"
     },
     "output_type": "display_data"
    }
   ],
   "source": [
    "plt.figure(figsize=(15,4))\n",
    "\n",
    "#%-age of authorized transactions against total num of transaction\n",
    "plt.subplot(121)\n",
    "plt.scatter(auth_share, hist_trans.groupby(['card_id'])['card_id'].count(), color='#00a5e1')\n",
    "plt.title('Share of Auth. Trans. vs Hist. Trans. Amount')\n",
    "plt.ylim(0, 2000)\n",
    "plt.xlabel('Share of auth. trans.')\n",
    "plt.ylabel('Hist. trans. amount')\n",
    "\n",
    "\n",
    "#%-age of authorized transactions against loyalty score (target)\n",
    "plt.subplot(122)\n",
    "plt.scatter(auth_share.loc[train['target'].index], train['target'], color='#ffcc02')\n",
    "plt.title('Share of Auth. Trans. vs Loyalty Score (Target)')\n",
    "#plt.ylim(0, 2000)\n",
    "plt.xlabel('Share of auth. trans.')\n",
    "plt.ylabel('Loyalty Score (Target)')\n",
    "\n",
    "pass"
   ]
  },
  {
   "cell_type": "markdown",
   "metadata": {},
   "source": [
    "1. Card_ids with lower share of authorized transactions has lower total amount of transactions;\n",
    "2. And, unfortunately there are no visually distinguishable dependence between share of authorized transactions and loyalty score (target)."
   ]
  },
  {
   "cell_type": "markdown",
   "metadata": {
    "heading_collapsed": true
   },
   "source": [
    "#### Installments\n",
    "Installments is one of few numerical features. Let's have a look at it in more details."
   ]
  },
  {
   "cell_type": "code",
   "execution_count": 26,
   "metadata": {
    "hidden": true
   },
   "outputs": [
    {
     "name": "stdout",
     "output_type": "stream",
     "text": [
      "Unique installments values:\n",
      "- hist_trans: [  0   1   5   3   4   2  -1  10   6  12   8   7   9  11 999]\n",
      "- new_trans: [  1  -1   3   2  12   6   0   4  10   5   9   8   7  11 999]\n",
      "Lists are equal: True\n"
     ]
    }
   ],
   "source": [
    "print('Unique installments values:')\n",
    "print('- hist_trans:', hist_trans['installments'].unique())\n",
    "print('- new_trans:', new_trans['installments'].unique())\n",
    "print('Lists are equal:', set(hist_trans['installments'].unique()) == set(new_trans['installments'].unique()))"
   ]
  },
  {
   "cell_type": "markdown",
   "metadata": {
    "hidden": true
   },
   "source": [
    "Actually, the number of unique values is quiet small, thus I believe that <b>this feature should be treated as a categorical</b>, not numerical.\n",
    "\n",
    "999 and -1 values have no sense to be true, fortunately, there is information from Elo on competition forum that -1 and 999 values are missing values (i.e. NaNs). But, I think that there should be some reason to make them different.\n",
    "\n",
    "After quik review of 'heads' of hist_ and new_ -trans data sheets, I've noticed, that installment feature has some interconnection with category_3 feature. Let's dig into more details."
   ]
  },
  {
   "cell_type": "code",
   "execution_count": 27,
   "metadata": {
    "hidden": true
   },
   "outputs": [
    {
     "name": "stdout",
     "output_type": "stream",
     "text": [
      "hist_trans:\n",
      "\n",
      "installment = -1\n",
      "- installments=-1, category_3 unique values: [nan]\n",
      "- category_3=NaN, installments unique values: [-1]\n",
      "\n",
      "installment = 999\n",
      "- installments=999, category_3 unique values: ['C']\n",
      " category_3=C, installments unique values: [  5   3   4   2  10   6  12   8   7   9  11 999]\n",
      "\n",
      "\n",
      "new_trans:\n",
      "\n",
      "installment = -1\n",
      "- installments=-1, category_3 unique values: [nan]\n",
      "- category_3=NaN, installments unique values: [-1]\n",
      "\n",
      "installment = 999\n",
      "- installments=999, category_3 unique values: ['C']\n",
      " category_3=C, installments unique values: [  3   2  12   6   4  10   5   9   8   7  11 999]\n"
     ]
    }
   ],
   "source": [
    "print('hist_trans:')\n",
    "print('\\ninstallment = -1')\n",
    "print('- installments=-1, category_3 unique values:',\n",
    "      hist_trans[hist_trans['installments'] == -1]['category_3'].unique())\n",
    "print('- category_3=NaN, installments unique values:',\n",
    "      hist_trans[hist_trans['category_3'].isnull()]['installments'].unique())\n",
    "print('\\ninstallment = 999')\n",
    "print('- installments=999, category_3 unique values:',\n",
    "      hist_trans[hist_trans['installments'] == 999]['category_3'].unique())\n",
    "print(' category_3=C, installments unique values:',\n",
    "      hist_trans[hist_trans['category_3'] == 'C']['installments'].unique())\n",
    "\n",
    "print('\\n')\n",
    "print('new_trans:')\n",
    "print('\\ninstallment = -1')\n",
    "print('- installments=-1, category_3 unique values:',\n",
    "      new_trans[new_trans['installments'] == -1]['category_3'].unique())\n",
    "print('- category_3=NaN, installments unique values:',\n",
    "      new_trans[new_trans['category_3'].isnull()]['installments'].unique())\n",
    "print('\\ninstallment = 999')\n",
    "print('- installments=999, category_3 unique values:',\n",
    "      new_trans[new_trans['installments'] == 999]['category_3'].unique())\n",
    "print(' category_3=C, installments unique values:',\n",
    "      new_trans[new_trans['category_3'] == 'C']['installments'].unique())"
   ]
  },
  {
   "cell_type": "markdown",
   "metadata": {
    "hidden": true
   },
   "source": [
    "Manipulations above show, that -1 in installments corresponds to NaNs in category_3 and vice versa, and 999 in installments corresponds to 'C' in category_3, but without inverse relation.<br/>\n",
    "So <b>my hypothesis that -1 and 999 are different missing values could be <u>true</u></b>. For consistency in data representation I replace -1 with NaN and leave 999 as it is."
   ]
  },
  {
   "cell_type": "code",
   "execution_count": 28,
   "metadata": {
    "hidden": true
   },
   "outputs": [],
   "source": [
    "hist_trans['installments'] = hist_trans['installments'].replace(-1, np.nan)\n",
    "new_trans['installments'] = new_trans['installments'].replace(-1, np.nan)"
   ]
  },
  {
   "cell_type": "markdown",
   "metadata": {},
   "source": [
    "#### Purchase Amount"
   ]
  },
  {
   "cell_type": "code",
   "execution_count": 29,
   "metadata": {},
   "outputs": [],
   "source": [
    "hpa = hist_trans['purchase_amount'].astype(float)\n",
    "npa = new_trans['purchase_amount'].astype(float)"
   ]
  },
  {
   "cell_type": "markdown",
   "metadata": {},
   "source": [
    "Most of purchase amount values are distributed around 0. Samples also include negative values:"
   ]
  },
  {
   "cell_type": "code",
   "execution_count": 30,
   "metadata": {},
   "outputs": [
    {
     "name": "stdout",
     "output_type": "stream",
     "text": [
      "hist_trans purchase amount min: -0.7469077706336975\n",
      "new_trans purchase amount min: -0.7470703125\n"
     ]
    }
   ],
   "source": [
    "print('hist_trans purchase amount min:', hpa.min())\n",
    "print('new_trans purchase amount min:', npa.min())"
   ]
  },
  {
   "cell_type": "markdown",
   "metadata": {},
   "source": [
    "Hist_trans purchase amout includes 1 outlier  at  6010604 and contains 1006 values which are larger than max value in new_trans. Beside this distributions are very similar (visually). "
   ]
  },
  {
   "cell_type": "code",
   "execution_count": 31,
   "metadata": {},
   "outputs": [
    {
     "data": {
      "image/png": "[encoded data removed]",
      "text/plain": [
       "<Figure size 1080x288 with 2 Axes>"
      ]
     },
     "metadata": {
      "needs_background": "light"
     },
     "output_type": "display_data"
    }
   ],
   "source": [
    "plt.figure(figsize=(15,4))\n",
    "\n",
    "#Target\n",
    "plt.subplot(121)\n",
    "plt.hist(hpa[hpa <= npa.max()], bins=50, color='#00a5e1')\n",
    "plt.title('Hist. Trans.: Purchase Amount (limited max value)')\n",
    "plt.ylim(0, 45000)\n",
    "\n",
    "#Target w/o Outliers\n",
    "plt.subplot(122)\n",
    "import seaborn as sns\n",
    "plt.hist(npa, bins=50, color='#ffcc02')\n",
    "plt.title('New Merchant Trans.: Purchase Amount')\n",
    "plt.ylim(0, 45000 * npa.shape[0] / hpa.shape[0])\n",
    "\n",
    "pass"
   ]
  },
  {
   "cell_type": "markdown",
   "metadata": {},
   "source": [
    "I suppose, that working with negative purchase amounts in future will be uncomfortable. Any sums of purchase_amounts are under risk to result in negative or zero values, which is inappropriate and most likely will hurt a model of any type. Let's <b>transform the feature using Min-Max Scaling</b>."
   ]
  },
  {
   "cell_type": "code",
   "execution_count": 32,
   "metadata": {},
   "outputs": [],
   "source": [
    "scaler = MinMaxScaler(feature_range=(1 / 10**6, 1))\n",
    "scaler.fit(np.concatenate((hpa.values, npa.values)).reshape(-1, 1))\n",
    "\n",
    "hpa_adj = scaler.transform(hpa.values.reshape(-1, 1))\n",
    "npa_adj = scaler.transform(npa.values.reshape(-1, 1))"
   ]
  },
  {
   "cell_type": "code",
   "execution_count": 33,
   "metadata": {},
   "outputs": [
    {
     "data": {
      "image/png": "[encoded data removed]",
      "text/plain": [
       "<Figure size 1080x288 with 2 Axes>"
      ]
     },
     "metadata": {
      "needs_background": "light"
     },
     "output_type": "display_data"
    }
   ],
   "source": [
    "plt.figure(figsize=(15,4))\n",
    "\n",
    "#hist_trans adj. purchase_amount\n",
    "plt.subplot(121)\n",
    "plt.hist(hpa_adj[hpa_adj <= npa_adj.max()], bins=50, color='#00a5e1')\n",
    "plt.title('Hist. Trans.: Adj. Purchase Amount (limited max value)')\n",
    "plt.ylim(0, 45000)\n",
    "\n",
    "#new_trans adj. purchase_amount\n",
    "plt.subplot(122)\n",
    "import seaborn as sns\n",
    "plt.hist(npa_adj, bins=50, color='#ffcc02')\n",
    "plt.title('New Merchant Trans.: Adj. Purchase Amount')\n",
    "plt.ylim(0, 45000 * npa_adj.shape[0] / hpa_adj.shape[0])\n",
    "\n",
    "pass"
   ]
  },
  {
   "cell_type": "code",
   "execution_count": 34,
   "metadata": {},
   "outputs": [],
   "source": [
    "#Replacing feature in data sheets\n",
    "hist_trans['purchase_amount'] = hpa_adj\n",
    "new_trans['purchase_amount'] = npa_adj"
   ]
  },
  {
   "cell_type": "markdown",
   "metadata": {},
   "source": [
    "#### month_lag\n",
    "(Supposingly) month__lag shows the difference between transaction date and reference date (date of Elo's recommendation system activation). Let's check, if this reference date is the same for every transaction and|or card_id."
   ]
  },
  {
   "cell_type": "code",
   "execution_count": 35,
   "metadata": {},
   "outputs": [],
   "source": [
    "#purchase_date to timestamp format\n",
    "hist_trans['purchase_date'] = pd.to_datetime(hist_trans['purchase_date'])\n",
    "new_trans['purchase_date'] = pd.to_datetime(new_trans['purchase_date'])"
   ]
  },
  {
   "cell_type": "code",
   "execution_count": 36,
   "metadata": {},
   "outputs": [],
   "source": [
    "#hist_ and new_ -trans reference dates\n",
    "hrd = hist_trans['purchase_date'] - pd.to_timedelta(hist_trans['month_lag'], unit='M')\n",
    "nrd = new_trans['purchase_date'] - pd.to_timedelta(new_trans['month_lag'], unit='M')"
   ]
  },
  {
   "cell_type": "code",
   "execution_count": 37,
   "metadata": {},
   "outputs": [],
   "source": [
    "#reference dates to 01-MM-YYYY format\n",
    "hrd_1MY = pd.to_datetime(hrd.dt.year.astype(str) + '-' + hrd.dt.month.astype(str))\n",
    "nrd_1MY = pd.to_datetime(nrd.dt.year.astype(str) + '-' + nrd.dt.month.astype(str))"
   ]
  },
  {
   "cell_type": "code",
   "execution_count": 38,
   "metadata": {},
   "outputs": [
    {
     "data": {
      "text/html": [
       "<div>\n",
       "<style scoped>\n",
       "    .dataframe tbody tr th:only-of-type {\n",
       "        vertical-align: middle;\n",
       "    }\n",
       "\n",
       "    .dataframe tbody tr th {\n",
       "        vertical-align: top;\n",
       "    }\n",
       "\n",
       "    .dataframe thead th {\n",
       "        text-align: right;\n",
       "    }\n",
       "</style>\n",
       "<table border=\"1\" class=\"dataframe\">\n",
       "  <thead>\n",
       "    <tr style=\"text-align: right;\">\n",
       "      <th></th>\n",
       "      <th>hist_ref_date_count_%</th>\n",
       "      <th>new_ref_date_count_%</th>\n",
       "    </tr>\n",
       "  </thead>\n",
       "  <tbody>\n",
       "    <tr>\n",
       "      <th>2017-01-01</th>\n",
       "      <td>0.000058</td>\n",
       "      <td>0.007794</td>\n",
       "    </tr>\n",
       "    <tr>\n",
       "      <th>2017-02-01</th>\n",
       "      <td>0.021785</td>\n",
       "      <td>0.110085</td>\n",
       "    </tr>\n",
       "    <tr>\n",
       "      <th>2017-03-01</th>\n",
       "      <td>0.348787</td>\n",
       "      <td>1.002277</td>\n",
       "    </tr>\n",
       "    <tr>\n",
       "      <th>2017-04-01</th>\n",
       "      <td>0.534368</td>\n",
       "      <td>1.172727</td>\n",
       "    </tr>\n",
       "    <tr>\n",
       "      <th>2017-05-01</th>\n",
       "      <td>0.688467</td>\n",
       "      <td>1.306194</td>\n",
       "    </tr>\n",
       "    <tr>\n",
       "      <th>2017-06-01</th>\n",
       "      <td>0.915051</td>\n",
       "      <td>1.490094</td>\n",
       "    </tr>\n",
       "    <tr>\n",
       "      <th>2017-07-01</th>\n",
       "      <td>1.133227</td>\n",
       "      <td>1.604152</td>\n",
       "    </tr>\n",
       "    <tr>\n",
       "      <th>2017-08-01</th>\n",
       "      <td>1.420737</td>\n",
       "      <td>1.800430</td>\n",
       "    </tr>\n",
       "    <tr>\n",
       "      <th>2017-09-01</th>\n",
       "      <td>1.774686</td>\n",
       "      <td>2.134505</td>\n",
       "    </tr>\n",
       "    <tr>\n",
       "      <th>2017-10-01</th>\n",
       "      <td>2.073573</td>\n",
       "      <td>2.730930</td>\n",
       "    </tr>\n",
       "    <tr>\n",
       "      <th>2017-11-01</th>\n",
       "      <td>2.948005</td>\n",
       "      <td>3.616499</td>\n",
       "    </tr>\n",
       "    <tr>\n",
       "      <th>2017-12-01</th>\n",
       "      <td>4.945930</td>\n",
       "      <td>5.115864</td>\n",
       "    </tr>\n",
       "    <tr>\n",
       "      <th>2018-01-01</th>\n",
       "      <td>9.061326</td>\n",
       "      <td>11.591004</td>\n",
       "    </tr>\n",
       "    <tr>\n",
       "      <th>2018-02-01</th>\n",
       "      <td>70.726280</td>\n",
       "      <td>65.041714</td>\n",
       "    </tr>\n",
       "    <tr>\n",
       "      <th>2018-03-01</th>\n",
       "      <td>3.407721</td>\n",
       "      <td>1.275731</td>\n",
       "    </tr>\n",
       "  </tbody>\n",
       "</table>\n",
       "</div>"
      ],
      "text/plain": [
       "            hist_ref_date_count_%  new_ref_date_count_%\n",
       "2017-01-01               0.000058              0.007794\n",
       "2017-02-01               0.021785              0.110085\n",
       "2017-03-01               0.348787              1.002277\n",
       "2017-04-01               0.534368              1.172727\n",
       "2017-05-01               0.688467              1.306194\n",
       "2017-06-01               0.915051              1.490094\n",
       "2017-07-01               1.133227              1.604152\n",
       "2017-08-01               1.420737              1.800430\n",
       "2017-09-01               1.774686              2.134505\n",
       "2017-10-01               2.073573              2.730930\n",
       "2017-11-01               2.948005              3.616499\n",
       "2017-12-01               4.945930              5.115864\n",
       "2018-01-01               9.061326             11.591004\n",
       "2018-02-01              70.726280             65.041714\n",
       "2018-03-01               3.407721              1.275731"
      ]
     },
     "execution_count": 38,
     "metadata": {},
     "output_type": "execute_result"
    }
   ],
   "source": [
    "#unique ref. dates %-age\n",
    "hrd_counts = pd.DataFrame(hrd_1MY.value_counts(normalize=True), columns=['hist_ref_date_count_%']) * 100\n",
    "nrd_counts = pd.DataFrame(nrd_1MY.value_counts(normalize=True), columns=['new_ref_date_count_%']) * 100\n",
    "hnrd_counts = hrd_counts.merge(nrd_counts, how='outer', left_index=True, right_index=True)\n",
    "\n",
    "hnrd_counts"
   ]
  },
  {
   "cell_type": "markdown",
   "metadata": {},
   "source": [
    "Contrary to expectations reference dates are different for transactions. But, it is interesting, that ref_date_count_% increases chronologically, that could mean that Elo has been testing its reccomendation system on separated amount of clients before full start."
   ]
  },
  {
   "cell_type": "code",
   "execution_count": 39,
   "metadata": {},
   "outputs": [],
   "source": [
    "#adding reference dates to data sheets\n",
    "hist_trans['ref_date_1MY'] = hrd_1MY\n",
    "new_trans['ref_date_1MY'] = nrd_1MY"
   ]
  },
  {
   "cell_type": "markdown",
   "metadata": {},
   "source": [
    "### Saving Transformed Data Sheets"
   ]
  },
  {
   "cell_type": "markdown",
   "metadata": {},
   "source": [
    "Restoring NaN date in test data sheet from transactions data"
   ]
  },
  {
   "cell_type": "code",
   "execution_count": 40,
   "metadata": {},
   "outputs": [
    {
     "name": "stdout",
     "output_type": "stream",
     "text": [
      "There are NaNs in TEST data sheet: False\n"
     ]
    }
   ],
   "source": [
    "#card_id with NaN\n",
    "cin = test[test['first_active_month'].isnull()].index[0]\n",
    "#min transaction date\n",
    "mtd = min(hist_trans[hist_trans['card_id'] == cin]['purchase_date'].min(),\n",
    "          new_trans[new_trans['card_id'] == cin]['purchase_date'].min())\n",
    "#replacing NaN\n",
    "test.loc[test['card_id'] == cin, 'first_active_month'] = mtd\n",
    "#check\n",
    "print('There are NaNs in TEST data sheet:', test.isnull().values.any())"
   ]
  },
  {
   "cell_type": "markdown",
   "metadata": {},
   "source": [
    "Saving pickle files."
   ]
  },
  {
   "cell_type": "code",
   "execution_count": 41,
   "metadata": {},
   "outputs": [],
   "source": [
    "data_sheets = [train, test, hist_trans, new_trans]\n",
    "ds_title = [title+'.pkl' for title in ['train', 'test', 'hist_trans', 'new_trans']]\n",
    "\n",
    "for ds, title in zip(data_sheets, ds_title):\n",
    "    with open(os.path.join(PATH_TO_DATA, title), 'wb') as pkl_f:\n",
    "        pickle.dump(ds, pkl_f)"
   ]
  },
  {
   "cell_type": "markdown",
   "metadata": {},
   "source": [
    "## Conclusion\n",
    "Please, consider ['Main Takeaways'](#main_takeaways) at the top of the page."
   ]
  }
 ],
 "metadata": {
  "kernelspec": {
   "display_name": "Python 3",
   "language": "python",
   "name": "python3"
  },
  "language_info": {
   "codemirror_mode": {
    "name": "ipython",
    "version": 3
   },
   "file_extension": ".py",
   "mimetype": "text/x-python",
   "name": "python",
   "nbconvert_exporter": "python",
   "pygments_lexer": "ipython3",
   "version": "3.7.1"
  }
 },
 "nbformat": 4,
 "nbformat_minor": 2
}
