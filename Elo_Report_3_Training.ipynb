{
 "cells": [
  {
   "cell_type": "markdown",
   "metadata": {},
   "source": [
    "<img src=\"header.png\"></img>"
   ]
  },
  {
   "cell_type": "markdown",
   "metadata": {},
   "source": [
    "<div align=\"center\">\n",
    "    <h1>Report on Participation in Kaggle Competition</h1>\n",
    "    <h1>Part III: Model Training</h1>\n",
    "</div>"
   ]
  },
  {
   "cell_type": "markdown",
   "metadata": {},
   "source": [
    "<div align=\"center\"><i>\n",
    "In this Jupyter notebook I am engineering features from 4 data sheets provided by competition originator.<br/>\n",
    "<br/>\n",
    "Prepared by Artem Drofa.\n",
    "</i></div>"
   ]
  },
  {
   "cell_type": "markdown",
   "metadata": {},
   "source": [
    "<a id='main_takeaways'></a>\n",
    "## Main Takeaways\n",
    "* Prepared features allowed to reach RMSE 3.685 (on validation dataset).\n",
    "* Model's parameters tuning allowed to improve RMSE slightly and reach 3.681.\n",
    "* Much better results were reached with additional features engineering. After new features were added to train (and valid) dataset, RMSE 3.674 level was touched."
   ]
  },
  {
   "cell_type": "markdown",
   "metadata": {},
   "source": [
    "## Model Training"
   ]
  },
  {
   "cell_type": "code",
   "execution_count": 1,
   "metadata": {},
   "outputs": [],
   "source": [
    "import pandas as pd\n",
    "import numpy as np\n",
    "\n",
    "import matplotlib.pyplot as plt\n",
    "\n",
    "from sklearn.preprocessing import MinMaxScaler, OneHotEncoder, StandardScaler\n",
    "from sklearn.model_selection import train_test_split, KFold, cross_val_score\n",
    "from sklearn.metrics import mean_squared_error\n",
    "from sklearn.ensemble import RandomForestRegressor\n",
    "from sklearn.linear_model import SGDRegressor\n",
    "\n",
    "import lightgbm as lgb\n",
    "\n",
    "from scipy.sparse import csr_matrix, hstack\n",
    "from scipy.spatial import distance\n",
    "\n",
    "from IPython.core import display as ICD\n",
    "from itertools import combinations\n",
    "import pickle\n",
    "import copy\n",
    "import os\n",
    "\n",
    "import gc\n",
    "from tqdm import tqdm\n",
    "from sys import getsizeof\n",
    "import warnings\n",
    "warnings.simplefilter(action='ignore')"
   ]
  },
  {
   "cell_type": "code",
   "execution_count": 2,
   "metadata": {},
   "outputs": [],
   "source": [
    "PATH_TO_DATA = '.../data'"
   ]
  },
  {
   "cell_type": "code",
   "execution_count": 3,
   "metadata": {
    "code_folding": []
   },
   "outputs": [],
   "source": [
    "#function returns memory usage by object\n",
    "def mem_usage(obj):\n",
    "    usage_b = getsizeof(obj)\n",
    "    usage_mb = usage_b / 1024 ** 2 # convert bytes to megabytes\n",
    "    return \"{:03.2f} MB\".format(usage_mb)"
   ]
  },
  {
   "cell_type": "code",
   "execution_count": 4,
   "metadata": {
    "code_folding": [
     0
    ]
   },
   "outputs": [],
   "source": [
    "def rmse(y_true, y_pred):\n",
    "    return np.sqrt(mean_squared_error(y_true, y_pred))"
   ]
  },
  {
   "cell_type": "code",
   "execution_count": 5,
   "metadata": {
    "code_folding": []
   },
   "outputs": [],
   "source": [
    "#transforms train_df and test_df to sparse matrices and saves them,\n",
    "#columns (features') names and index column in the same folder\n",
    "def sparse_matrix_prep(source_df_name):\n",
    "\n",
    "    #opening df\n",
    "    with open(os.path.join(PATH_TO_DATA, source_df_name+'.pkl'), 'rb') as pkl_f:\n",
    "        df = pickle.load(pkl_f)\n",
    "\n",
    "    #transforming to csr\n",
    "    df_csr = csr_matrix(df)\n",
    "\n",
    "    #saving csr matrix, features names and card_id (observations' indeces)\n",
    "    with open(os.path.join(PATH_TO_DATA, source_df_name+'_csr.pkl'), 'wb') as pkl_f:\n",
    "        pickle.dump(df_csr, pkl_f)\n",
    "    with open(os.path.join(PATH_TO_DATA, source_df_name+'_columns.pkl'), 'wb') as pkl_f:\n",
    "        pickle.dump(df.columns, pkl_f)\n",
    "    with open(os.path.join(PATH_TO_DATA, source_df_name+'_card_id.pkl'), 'wb') as pkl_f:\n",
    "        pickle.dump(df.index, pkl_f)\n",
    "\n",
    "    #memory clearing\n",
    "    del df, df_csr\n",
    "    gc.collect()"
   ]
  },
  {
   "cell_type": "code",
   "execution_count": 6,
   "metadata": {},
   "outputs": [
    {
     "name": "stdout",
     "output_type": "stream",
     "text": [
      "CPU times: user 1min 7s, sys: 22.2 s, total: 1min 29s\n",
      "Wall time: 4min 43s\n"
     ]
    }
   ],
   "source": [
    "%%time\n",
    "sparse_matrix_prep('train_df')\n",
    "sparse_matrix_prep('test_df')"
   ]
  },
  {
   "cell_type": "markdown",
   "metadata": {},
   "source": [
    "### LGB\n",
    "For evaluating of models' results I will split train dataset on 2 samples: sample for train (77%) and sample for validation (33%)."
   ]
  },
  {
   "cell_type": "code",
   "execution_count": 7,
   "metadata": {
    "code_folding": [
     1
    ]
   },
   "outputs": [],
   "source": [
    "#Model\n",
    "def kfold_lightgbm(X_train, y_train, X_test, num_folds, file=False, params='default'):\n",
    "    \n",
    "    #storing results\n",
    "    evals_results = []\n",
    "    \n",
    "    # Create arrays and dataframes to store results\n",
    "    oof_preds = np.zeros(X_train.shape[0])\n",
    "    sub_preds = np.zeros(X_test.shape[0])\n",
    "\n",
    "    #Cross-Validation\n",
    "    folds = KFold(n_splits= num_folds, shuffle=True, random_state=17)\n",
    "    \n",
    "    for n_fold, (train_idx, valid_idx) in tqdm(enumerate(folds.split(X_train))):\n",
    "        train_x, train_y = X_train[train_idx], y_train[train_idx]\n",
    "        valid_x, valid_y = X_train[valid_idx], y_train[valid_idx]\n",
    "\n",
    "        #transform data to lgb format\n",
    "        lgb_train = lgb.Dataset(train_x, label=train_y, free_raw_data=False)\n",
    "        lgb_test = lgb.Dataset(valid_x, label=valid_y,free_raw_data=False)\n",
    "        \n",
    "        #memory clearing\n",
    "        del train_x, train_y\n",
    "        gc.collect()\n",
    "        \n",
    "        #params\n",
    "        if params == 'default':\n",
    "            params = {'objective': 'regression',\n",
    "                      'metric': 'rmse',\n",
    "                      'verbose': 1}\n",
    "        else:\n",
    "            params = params\n",
    "                      \n",
    "        params['seed'] = int(17**n_fold),\n",
    "        params['bagging_seed'] = int(17**n_fold),\n",
    "        params['drop_seed'] = int(17**n_fold)\n",
    "        \n",
    "        #dict for storing model's result\n",
    "        evals_result = {}\n",
    "        \n",
    "        #model\n",
    "        reg = lgb.train(params,\n",
    "                        lgb_train,\n",
    "                        valid_sets=[lgb_train, lgb_test],\n",
    "                        valid_names=['train', 'test'],\n",
    "                        evals_result = evals_result,\n",
    "                        verbose_eval= 10)\n",
    "        \n",
    "        #adding fold's result\n",
    "        evals_results.append(evals_result)\n",
    "        \n",
    "        #predictions\n",
    "        oof_preds[valid_idx] = reg.predict(valid_x, num_iteration=reg.best_iteration)\n",
    "        sub_preds += reg.predict(X_test, num_iteration=reg.best_iteration) / folds.n_splits\n",
    "        \n",
    "        #displaying results\n",
    "        print('Fold {} RMSE : {}'.format(n_fold + 1, rmse(valid_y, oof_preds[valid_idx])))\n",
    "        \n",
    "        #clearing memory\n",
    "        del reg, valid_x, valid_y\n",
    "        gc.collect()\n",
    "\n",
    "    #creating submission file\n",
    "    if file is not False:\n",
    "        X_test.loc[:,'target'] = sub_preds\n",
    "        X_test = X_test.reset_index()\n",
    "        X_test[['card_id', 'target']].to_csv(file, index=False)\n",
    "    \n",
    "    return evals_results, sub_preds"
   ]
  },
  {
   "cell_type": "code",
   "execution_count": 8,
   "metadata": {
    "code_folding": [
     1
    ]
   },
   "outputs": [],
   "source": [
    "#function returns mean of folds' RMSE\n",
    "def rmse_avg(results):\n",
    "    rmse_avg = 0\n",
    "    for fold in results:\n",
    "        rmse_avg += np.array(fold['test']['rmse']).min() / len(results)\n",
    "    return rmse_avg"
   ]
  },
  {
   "cell_type": "markdown",
   "metadata": {},
   "source": [
    "#### Base* Model:\n",
    "<i>*with default parameters</i>\n",
    "\n",
    "CV-average RMSE: 3.686 | Valid RMSE: 3.685"
   ]
  },
  {
   "cell_type": "code",
   "execution_count": 9,
   "metadata": {
    "code_folding": []
   },
   "outputs": [],
   "source": [
    "def base_model(return_preds=False):\n",
    "    #open data\n",
    "    with open(os.path.join(PATH_TO_DATA, 'train_df_csr.pkl'), 'rb') as pkl_f:\n",
    "                train_df_csr = pickle.load(pkl_f)\n",
    "    with open(os.path.join(PATH_TO_DATA, 'target_df.pkl'), 'rb') as pkl_f:\n",
    "                target_df = pickle.load(pkl_f)\n",
    "\n",
    "    #data train/valid split\n",
    "    X_train, X_valid, y_train, y_valid = train_test_split(train_df_csr, target_df,\n",
    "                                                          test_size=0.33, shuffle=True, random_state=17)\n",
    "\n",
    "    #model training\n",
    "    res, preds = kfold_lightgbm(X_train, y_train, X_valid, 3, file=False, params='default')\n",
    "    \n",
    "    #printing results\n",
    "    print('-' * 70)\n",
    "    print('RESULTS:')\n",
    "    print('CV-average RMSE: {} | Valid RMSE: {}'.format(round(rmse_avg(res), 3),\n",
    "                                                        round(rmse(preds, y_valid), 3)))\n",
    "    print('-' * 70)\n",
    "    \n",
    "    #clearing memory\n",
    "    del train_df_csr, target_df\n",
    "    del X_train, X_valid, y_train, y_valid\n",
    "    gc.collect()\n",
    "    \n",
    "    if return_preds == True:\n",
    "        return preds\n",
    "    \n",
    "    del res, preds\n",
    "    gc.collect()"
   ]
  },
  {
   "cell_type": "code",
   "execution_count": 10,
   "metadata": {
    "scrolled": true
   },
   "outputs": [
    {
     "name": "stderr",
     "output_type": "stream",
     "text": [
      "\r",
      "0it [00:00, ?it/s]"
     ]
    },
    {
     "name": "stdout",
     "output_type": "stream",
     "text": [
      "[10]\ttrain's rmse: 3.63312\ttest's rmse: 3.65784\n",
      "[20]\ttrain's rmse: 3.51413\ttest's rmse: 3.64495\n",
      "[30]\ttrain's rmse: 3.43974\ttest's rmse: 3.63846\n",
      "[40]\ttrain's rmse: 3.38668\ttest's rmse: 3.63571\n",
      "[50]\ttrain's rmse: 3.34089\ttest's rmse: 3.6357\n",
      "[60]\ttrain's rmse: 3.30618\ttest's rmse: 3.6361\n",
      "[70]\ttrain's rmse: 3.27487\ttest's rmse: 3.63758\n",
      "[80]\ttrain's rmse: 3.248\ttest's rmse: 3.63711\n",
      "[90]\ttrain's rmse: 3.22046\ttest's rmse: 3.6387\n",
      "[100]\ttrain's rmse: 3.19763\ttest's rmse: 3.64084\n"
     ]
    },
    {
     "name": "stderr",
     "output_type": "stream",
     "text": [
      "\r",
      "1it [01:06, 66.89s/it]"
     ]
    },
    {
     "name": "stdout",
     "output_type": "stream",
     "text": [
      "Fold 1 RMSE : 3.6408424506480803\n",
      "[10]\ttrain's rmse: 3.57582\ttest's rmse: 3.80406\n",
      "[20]\ttrain's rmse: 3.46598\ttest's rmse: 3.76526\n",
      "[30]\ttrain's rmse: 3.39387\ttest's rmse: 3.75496\n",
      "[40]\ttrain's rmse: 3.34546\ttest's rmse: 3.74894\n",
      "[50]\ttrain's rmse: 3.30363\ttest's rmse: 3.74663\n",
      "[60]\ttrain's rmse: 3.26578\ttest's rmse: 3.74546\n",
      "[70]\ttrain's rmse: 3.23754\ttest's rmse: 3.74532\n",
      "[80]\ttrain's rmse: 3.20893\ttest's rmse: 3.7463\n",
      "[90]\ttrain's rmse: 3.17804\ttest's rmse: 3.74768\n",
      "[100]\ttrain's rmse: 3.15313\ttest's rmse: 3.75131\n"
     ]
    },
    {
     "name": "stderr",
     "output_type": "stream",
     "text": [
      "\r",
      "2it [02:20, 68.82s/it]"
     ]
    },
    {
     "name": "stdout",
     "output_type": "stream",
     "text": [
      "Fold 2 RMSE : 3.7513132952125106\n",
      "[10]\ttrain's rmse: 3.6076\ttest's rmse: 3.72201\n",
      "[20]\ttrain's rmse: 3.49869\ttest's rmse: 3.69437\n",
      "[30]\ttrain's rmse: 3.42425\ttest's rmse: 3.68487\n",
      "[40]\ttrain's rmse: 3.36768\ttest's rmse: 3.68006\n",
      "[50]\ttrain's rmse: 3.32849\ttest's rmse: 3.67825\n",
      "[60]\ttrain's rmse: 3.29475\ttest's rmse: 3.67877\n",
      "[70]\ttrain's rmse: 3.26227\ttest's rmse: 3.67937\n",
      "[80]\ttrain's rmse: 3.23434\ttest's rmse: 3.68083\n",
      "[90]\ttrain's rmse: 3.20514\ttest's rmse: 3.68231\n",
      "[100]\ttrain's rmse: 3.17717\ttest's rmse: 3.68326\n"
     ]
    },
    {
     "name": "stderr",
     "output_type": "stream",
     "text": [
      "\r",
      "3it [03:31, 69.51s/it]"
     ]
    },
    {
     "name": "stdout",
     "output_type": "stream",
     "text": [
      "Fold 3 RMSE : 3.683256602662884\n",
      "----------------------------------------------------------------------\n",
      "RESULTS:\n",
      "CV-average RMSE: 3.686 | Valid RMSE: 3.685\n",
      "----------------------------------------------------------------------\n"
     ]
    },
    {
     "name": "stderr",
     "output_type": "stream",
     "text": [
      "\n"
     ]
    },
    {
     "name": "stdout",
     "output_type": "stream",
     "text": [
      "CPU times: user 13min 15s, sys: 3.15 s, total: 13min 18s\n",
      "Wall time: 3min 39s\n"
     ]
    }
   ],
   "source": [
    "%%time\n",
    "base_model()"
   ]
  },
  {
   "cell_type": "markdown",
   "metadata": {},
   "source": [
    "#### Base Model Improvements\n",
    "After several experiments I stopped on 2 following parameters packs for LGB model (which predictions could be blended on final stage):\n",
    "* model with deep trees;\n",
    "* model with shallow trees.\n",
    "\n",
    "Also I leave k-fold at 3 and learning_rate at 0.025 for now for learning speed increase. After further steps I plan, to increase k-fold up yo 10 and decrease learning_rate approzimately to 0.001."
   ]
  },
  {
   "cell_type": "markdown",
   "metadata": {},
   "source": [
    "##### Model With Deep Trees\n",
    "\n",
    "CV-average RMSE: 3.67 | Valid RMSE: 3.681"
   ]
  },
  {
   "cell_type": "code",
   "execution_count": 11,
   "metadata": {
    "code_folding": [
     0
    ]
   },
   "outputs": [],
   "source": [
    "def deep_trees(return_preds=False):\n",
    "    #open data\n",
    "    with open(os.path.join(PATH_TO_DATA, 'train_df_csr.pkl'), 'rb') as pkl_f:\n",
    "                train_df_csr = pickle.load(pkl_f)\n",
    "    with open(os.path.join(PATH_TO_DATA, 'target_df.pkl'), 'rb') as pkl_f:\n",
    "                target_df = pickle.load(pkl_f)\n",
    "\n",
    "    #data train/valid split\n",
    "    X_train, X_valid, y_train, y_valid = train_test_split(train_df_csr, target_df,\n",
    "                                                          test_size=0.33, shuffle=True, random_state=17)\n",
    "    \n",
    "    #parameters for lgb\n",
    "    params ={'task': 'train',\n",
    "             'objective': 'regression',\n",
    "             'metric': 'rmse',\n",
    "\n",
    "             'feature_fraction': 0.75, #1\n",
    "             'subsample': 0.75, # 1\n",
    "\n",
    "             'learning_rate': 0.025, # 0.1\n",
    "             'max_depth': 12, # -1\n",
    "             'num_leaves': 1000, # 31\n",
    "\n",
    "             'reg_alpha': 0, # 0\n",
    "             'reg_lambda': 0, # 0\n",
    "\n",
    "             'min_split_gain': 0, #0\n",
    "             'min_data_in_leaf': 100, #20\n",
    "             'min_sum_hessian_in_leaf': 1e-3, # 1e-3\n",
    "\n",
    "             'verbose': -1,\n",
    "\n",
    "             'num_iterations':10000,\n",
    "             'early_stopping_round':100}\n",
    "\n",
    "    #model training\n",
    "    res, preds = kfold_lightgbm(X_train, y_train, X_valid, 3, file=False, params=params)\n",
    "    \n",
    "    #printing results\n",
    "    print('-' * 70)\n",
    "    print('RESULTS:')\n",
    "    print('CV-average RMSE: {} | Valid RMSE: {}'.format(round(rmse_avg(res), 3),\n",
    "                                                        round(rmse(preds, y_valid), 3)))\n",
    "    print('-' * 70)\n",
    "    \n",
    "    #clearing memory\n",
    "    del train_df_csr, target_df\n",
    "    del X_train, X_valid, y_train, y_valid\n",
    "    gc.collect()\n",
    "    \n",
    "    if return_preds == True:\n",
    "        return preds\n",
    "    \n",
    "    del res, preds\n",
    "    gc.collect()"
   ]
  },
  {
   "cell_type": "code",
   "execution_count": 12,
   "metadata": {
    "scrolled": true
   },
   "outputs": [
    {
     "name": "stderr",
     "output_type": "stream",
     "text": [
      "\r",
      "0it [00:00, ?it/s]"
     ]
    },
    {
     "name": "stdout",
     "output_type": "stream",
     "text": [
      "Training until validation scores don't improve for 100 rounds.\n",
      "[10]\ttrain's rmse: 3.78077\ttest's rmse: 3.70739\n",
      "[20]\ttrain's rmse: 3.7013\ttest's rmse: 3.67138\n",
      "[30]\ttrain's rmse: 3.64093\ttest's rmse: 3.64907\n",
      "[40]\ttrain's rmse: 3.59205\ttest's rmse: 3.63619\n",
      "[50]\ttrain's rmse: 3.55116\ttest's rmse: 3.62852\n",
      "[60]\ttrain's rmse: 3.51662\ttest's rmse: 3.62436\n",
      "[70]\ttrain's rmse: 3.48697\ttest's rmse: 3.62178\n",
      "[80]\ttrain's rmse: 3.46357\ttest's rmse: 3.62027\n",
      "[90]\ttrain's rmse: 3.44329\ttest's rmse: 3.61938\n",
      "[100]\ttrain's rmse: 3.42653\ttest's rmse: 3.61849\n",
      "[110]\ttrain's rmse: 3.41128\ttest's rmse: 3.61858\n",
      "[120]\ttrain's rmse: 3.3971\ttest's rmse: 3.6183\n",
      "[130]\ttrain's rmse: 3.38664\ttest's rmse: 3.61833\n",
      "[140]\ttrain's rmse: 3.37499\ttest's rmse: 3.61879\n",
      "[150]\ttrain's rmse: 3.36542\ttest's rmse: 3.6185\n",
      "[160]\ttrain's rmse: 3.35541\ttest's rmse: 3.61857\n",
      "[170]\ttrain's rmse: 3.34575\ttest's rmse: 3.61878\n",
      "[180]\ttrain's rmse: 3.33961\ttest's rmse: 3.61906\n",
      "[190]\ttrain's rmse: 3.33306\ttest's rmse: 3.61943\n",
      "[200]\ttrain's rmse: 3.32467\ttest's rmse: 3.61957\n",
      "[210]\ttrain's rmse: 3.31735\ttest's rmse: 3.61989\n",
      "[220]\ttrain's rmse: 3.31131\ttest's rmse: 3.62036\n",
      "Early stopping, best iteration is:\n",
      "[128]\ttrain's rmse: 3.38909\ttest's rmse: 3.61818\n",
      "Fold 1 RMSE : 3.6181826679594056\n"
     ]
    },
    {
     "name": "stderr",
     "output_type": "stream",
     "text": [
      "\r",
      "1it [05:01, 301.04s/it]"
     ]
    },
    {
     "name": "stdout",
     "output_type": "stream",
     "text": [
      "Training until validation scores don't improve for 100 rounds.\n",
      "[10]\ttrain's rmse: 3.70675\ttest's rmse: 3.87073\n",
      "[20]\ttrain's rmse: 3.6333\ttest's rmse: 3.82818\n",
      "[30]\ttrain's rmse: 3.57643\ttest's rmse: 3.79983\n",
      "[40]\ttrain's rmse: 3.52953\ttest's rmse: 3.78231\n",
      "[50]\ttrain's rmse: 3.49261\ttest's rmse: 3.76984\n",
      "[60]\ttrain's rmse: 3.45924\ttest's rmse: 3.76054\n",
      "[70]\ttrain's rmse: 3.43158\ttest's rmse: 3.75404\n",
      "[80]\ttrain's rmse: 3.40639\ttest's rmse: 3.74899\n",
      "[90]\ttrain's rmse: 3.38669\ttest's rmse: 3.74557\n",
      "[100]\ttrain's rmse: 3.36626\ttest's rmse: 3.74316\n",
      "[110]\ttrain's rmse: 3.35289\ttest's rmse: 3.74104\n",
      "[120]\ttrain's rmse: 3.33996\ttest's rmse: 3.73957\n",
      "[130]\ttrain's rmse: 3.32818\ttest's rmse: 3.73796\n",
      "[140]\ttrain's rmse: 3.31667\ttest's rmse: 3.73689\n",
      "[150]\ttrain's rmse: 3.30612\ttest's rmse: 3.73599\n",
      "[160]\ttrain's rmse: 3.29584\ttest's rmse: 3.73569\n",
      "[170]\ttrain's rmse: 3.28922\ttest's rmse: 3.73549\n",
      "[180]\ttrain's rmse: 3.28239\ttest's rmse: 3.7352\n",
      "[190]\ttrain's rmse: 3.27542\ttest's rmse: 3.73502\n",
      "[200]\ttrain's rmse: 3.26639\ttest's rmse: 3.73498\n",
      "[210]\ttrain's rmse: 3.2612\ttest's rmse: 3.73497\n",
      "[220]\ttrain's rmse: 3.25448\ttest's rmse: 3.73484\n",
      "[230]\ttrain's rmse: 3.24657\ttest's rmse: 3.7345\n",
      "[240]\ttrain's rmse: 3.23944\ttest's rmse: 3.73449\n",
      "[250]\ttrain's rmse: 3.23261\ttest's rmse: 3.73426\n",
      "[260]\ttrain's rmse: 3.22722\ttest's rmse: 3.73419\n",
      "[270]\ttrain's rmse: 3.2215\ttest's rmse: 3.73367\n",
      "[280]\ttrain's rmse: 3.21609\ttest's rmse: 3.73372\n",
      "[290]\ttrain's rmse: 3.21068\ttest's rmse: 3.73369\n",
      "[300]\ttrain's rmse: 3.2059\ttest's rmse: 3.73367\n",
      "[310]\ttrain's rmse: 3.20076\ttest's rmse: 3.73359\n",
      "[320]\ttrain's rmse: 3.19522\ttest's rmse: 3.73379\n",
      "[330]\ttrain's rmse: 3.19061\ttest's rmse: 3.73387\n",
      "[340]\ttrain's rmse: 3.18689\ttest's rmse: 3.73415\n",
      "[350]\ttrain's rmse: 3.1815\ttest's rmse: 3.73432\n",
      "[360]\ttrain's rmse: 3.17652\ttest's rmse: 3.73441\n",
      "[370]\ttrain's rmse: 3.17183\ttest's rmse: 3.73466\n",
      "Early stopping, best iteration is:\n",
      "[274]\ttrain's rmse: 3.21921\ttest's rmse: 3.73355\n",
      "Fold 2 RMSE : 3.733545172002371\n"
     ]
    },
    {
     "name": "stderr",
     "output_type": "stream",
     "text": [
      "\r",
      "2it [13:11, 357.98s/it]"
     ]
    },
    {
     "name": "stdout",
     "output_type": "stream",
     "text": [
      "Training until validation scores don't improve for 100 rounds.\n",
      "[10]\ttrain's rmse: 3.74919\ttest's rmse: 3.77633\n",
      "[20]\ttrain's rmse: 3.67371\ttest's rmse: 3.73776\n",
      "[30]\ttrain's rmse: 3.6155\ttest's rmse: 3.7132\n",
      "[40]\ttrain's rmse: 3.56652\ttest's rmse: 3.69603\n",
      "[50]\ttrain's rmse: 3.52901\ttest's rmse: 3.68507\n",
      "[60]\ttrain's rmse: 3.49812\ttest's rmse: 3.67775\n",
      "[70]\ttrain's rmse: 3.46691\ttest's rmse: 3.67213\n",
      "[80]\ttrain's rmse: 3.44211\ttest's rmse: 3.66871\n",
      "[90]\ttrain's rmse: 3.42274\ttest's rmse: 3.66689\n",
      "[100]\ttrain's rmse: 3.40582\ttest's rmse: 3.66479\n",
      "[110]\ttrain's rmse: 3.38984\ttest's rmse: 3.66355\n",
      "[120]\ttrain's rmse: 3.37868\ttest's rmse: 3.66239\n",
      "[130]\ttrain's rmse: 3.36627\ttest's rmse: 3.66137\n",
      "[140]\ttrain's rmse: 3.35705\ttest's rmse: 3.6602\n",
      "[150]\ttrain's rmse: 3.34836\ttest's rmse: 3.65971\n",
      "[160]\ttrain's rmse: 3.33929\ttest's rmse: 3.65919\n",
      "[170]\ttrain's rmse: 3.33244\ttest's rmse: 3.65904\n",
      "[180]\ttrain's rmse: 3.32479\ttest's rmse: 3.65882\n",
      "[190]\ttrain's rmse: 3.31714\ttest's rmse: 3.65893\n",
      "[200]\ttrain's rmse: 3.31029\ttest's rmse: 3.65891\n",
      "[210]\ttrain's rmse: 3.30423\ttest's rmse: 3.65894\n",
      "[220]\ttrain's rmse: 3.29887\ttest's rmse: 3.65891\n",
      "[230]\ttrain's rmse: 3.29415\ttest's rmse: 3.6591\n",
      "[240]\ttrain's rmse: 3.28737\ttest's rmse: 3.65916\n",
      "[250]\ttrain's rmse: 3.28196\ttest's rmse: 3.65932\n",
      "[260]\ttrain's rmse: 3.27628\ttest's rmse: 3.65937\n",
      "[270]\ttrain's rmse: 3.2714\ttest's rmse: 3.65959\n",
      "[280]\ttrain's rmse: 3.26589\ttest's rmse: 3.66005\n",
      "Early stopping, best iteration is:\n",
      "[181]\ttrain's rmse: 3.32456\ttest's rmse: 3.65879\n",
      "Fold 3 RMSE : 3.6587923023374405\n"
     ]
    },
    {
     "name": "stderr",
     "output_type": "stream",
     "text": [
      "3it [20:11, 376.33s/it]\n"
     ]
    },
    {
     "name": "stdout",
     "output_type": "stream",
     "text": [
      "----------------------------------------------------------------------\n",
      "RESULTS:\n",
      "CV-average RMSE: 3.67 | Valid RMSE: 3.681\n",
      "----------------------------------------------------------------------\n",
      "CPU times: user 1h 35s, sys: 45.2 s, total: 1h 1min 20s\n",
      "Wall time: 20min 14s\n"
     ]
    }
   ],
   "source": [
    "%%time\n",
    "deep_trees()"
   ]
  },
  {
   "cell_type": "markdown",
   "metadata": {},
   "source": [
    "##### Model With Shallow Trees\n",
    "\n",
    "CV-average RMSE: 3.67 | Valid RMSE: 3.682"
   ]
  },
  {
   "cell_type": "code",
   "execution_count": 13,
   "metadata": {
    "code_folding": [
     0
    ]
   },
   "outputs": [],
   "source": [
    "def shallow_trees(return_preds=False):\n",
    "    #open data\n",
    "    with open(os.path.join(PATH_TO_DATA, 'train_df_csr.pkl'), 'rb') as pkl_f:\n",
    "                train_df_csr = pickle.load(pkl_f)\n",
    "    with open(os.path.join(PATH_TO_DATA, 'target_df.pkl'), 'rb') as pkl_f:\n",
    "                target_df = pickle.load(pkl_f)\n",
    "\n",
    "    #data train/valid split\n",
    "    X_train, X_valid, y_train, y_valid = train_test_split(train_df_csr, target_df,\n",
    "                                                          test_size=0.33, shuffle=True, random_state=17)\n",
    "    \n",
    "    #parameters for lgb\n",
    "    params ={'task': 'train',\n",
    "             'objective': 'regression',\n",
    "             'metric': 'rmse',\n",
    "\n",
    "             'feature_fraction': 0.75, #1\n",
    "             'subsample': 0.75, # 1\n",
    "\n",
    "             'learning_rate': 0.025, # 0.1\n",
    "             'max_depth': 7, # -1\n",
    "             'num_leaves': 100,# 31\n",
    "\n",
    "             'reg_alpha': 0, # 0\n",
    "             'reg_lambda': 0, # 0\n",
    "\n",
    "             'min_split_gain': 0, #0\n",
    "             'min_data_in_leaf': 100, #20\n",
    "             'min_sum_hessian_in_leaf': 1e-3, # 1e-3\n",
    "\n",
    "             'verbose': -1,\n",
    "\n",
    "             'num_iterations':10000,\n",
    "             'early_stopping_round':100}\n",
    "\n",
    "    #model training\n",
    "    res, preds = kfold_lightgbm(X_train, y_train, X_valid, 3, file=False, params=params)\n",
    "    \n",
    "    #printing results\n",
    "    print('-' * 70)\n",
    "    print('RESULTS:')\n",
    "    print('CV-average RMSE: {} | Valid RMSE: {}'.format(round(rmse_avg(res), 3),\n",
    "                                                        round(rmse(preds, y_valid), 3)))\n",
    "    print('-' * 70)\n",
    "    \n",
    "    #clearing memory\n",
    "    del train_df_csr, target_df\n",
    "    del X_train, X_valid, y_train, y_valid\n",
    "    gc.collect()\n",
    "    \n",
    "    if return_preds == True:\n",
    "        return preds\n",
    "    \n",
    "    del res, preds\n",
    "    gc.collect()"
   ]
  },
  {
   "cell_type": "code",
   "execution_count": 14,
   "metadata": {
    "scrolled": true
   },
   "outputs": [
    {
     "name": "stderr",
     "output_type": "stream",
     "text": [
      "\r",
      "0it [00:00, ?it/s]"
     ]
    },
    {
     "name": "stdout",
     "output_type": "stream",
     "text": [
      "Training until validation scores don't improve for 100 rounds.\n",
      "[10]\ttrain's rmse: 3.80168\ttest's rmse: 3.71059\n",
      "[20]\ttrain's rmse: 3.74044\ttest's rmse: 3.67591\n",
      "[30]\ttrain's rmse: 3.69535\ttest's rmse: 3.65449\n",
      "[40]\ttrain's rmse: 3.66314\ttest's rmse: 3.64112\n",
      "[50]\ttrain's rmse: 3.63651\ttest's rmse: 3.6322\n",
      "[60]\ttrain's rmse: 3.61591\ttest's rmse: 3.62714\n",
      "[70]\ttrain's rmse: 3.59751\ttest's rmse: 3.62362\n",
      "[80]\ttrain's rmse: 3.58375\ttest's rmse: 3.62186\n",
      "[90]\ttrain's rmse: 3.57116\ttest's rmse: 3.62082\n",
      "[100]\ttrain's rmse: 3.55953\ttest's rmse: 3.62004\n",
      "[110]\ttrain's rmse: 3.54946\ttest's rmse: 3.62\n",
      "[120]\ttrain's rmse: 3.54232\ttest's rmse: 3.61952\n",
      "[130]\ttrain's rmse: 3.53638\ttest's rmse: 3.61953\n",
      "[140]\ttrain's rmse: 3.53013\ttest's rmse: 3.61907\n",
      "[150]\ttrain's rmse: 3.52366\ttest's rmse: 3.61929\n",
      "[160]\ttrain's rmse: 3.51657\ttest's rmse: 3.61918\n",
      "[170]\ttrain's rmse: 3.51236\ttest's rmse: 3.6191\n",
      "[180]\ttrain's rmse: 3.50755\ttest's rmse: 3.61888\n",
      "[190]\ttrain's rmse: 3.50234\ttest's rmse: 3.61899\n",
      "[200]\ttrain's rmse: 3.49853\ttest's rmse: 3.61867\n",
      "[210]\ttrain's rmse: 3.49418\ttest's rmse: 3.61864\n",
      "[220]\ttrain's rmse: 3.49087\ttest's rmse: 3.61879\n",
      "[230]\ttrain's rmse: 3.48807\ttest's rmse: 3.6187\n",
      "[240]\ttrain's rmse: 3.48517\ttest's rmse: 3.6185\n",
      "[250]\ttrain's rmse: 3.4825\ttest's rmse: 3.61865\n",
      "[260]\ttrain's rmse: 3.47952\ttest's rmse: 3.61863\n",
      "[270]\ttrain's rmse: 3.47648\ttest's rmse: 3.61869\n",
      "[280]\ttrain's rmse: 3.47411\ttest's rmse: 3.61868\n",
      "[290]\ttrain's rmse: 3.47162\ttest's rmse: 3.61886\n",
      "[300]\ttrain's rmse: 3.46877\ttest's rmse: 3.6188\n",
      "[310]\ttrain's rmse: 3.46646\ttest's rmse: 3.61901\n",
      "[320]\ttrain's rmse: 3.46411\ttest's rmse: 3.61918\n",
      "[330]\ttrain's rmse: 3.46195\ttest's rmse: 3.61934\n",
      "[340]\ttrain's rmse: 3.4596\ttest's rmse: 3.61927\n",
      "Early stopping, best iteration is:\n",
      "[241]\ttrain's rmse: 3.48468\ttest's rmse: 3.61846\n"
     ]
    },
    {
     "name": "stderr",
     "output_type": "stream",
     "text": [
      "\r",
      "1it [03:38, 218.95s/it]"
     ]
    },
    {
     "name": "stdout",
     "output_type": "stream",
     "text": [
      "Fold 1 RMSE : 3.6184569440979284\n",
      "Training until validation scores don't improve for 100 rounds.\n",
      "[10]\ttrain's rmse: 3.72763\ttest's rmse: 3.87315\n",
      "[20]\ttrain's rmse: 3.67339\ttest's rmse: 3.8319\n",
      "[30]\ttrain's rmse: 3.63239\ttest's rmse: 3.80402\n",
      "[40]\ttrain's rmse: 3.60175\ttest's rmse: 3.78604\n",
      "[50]\ttrain's rmse: 3.5773\ttest's rmse: 3.77279\n",
      "[60]\ttrain's rmse: 3.55894\ttest's rmse: 3.76318\n",
      "[70]\ttrain's rmse: 3.54153\ttest's rmse: 3.75564\n",
      "[80]\ttrain's rmse: 3.52382\ttest's rmse: 3.74932\n",
      "[90]\ttrain's rmse: 3.50963\ttest's rmse: 3.74385\n",
      "[100]\ttrain's rmse: 3.49702\ttest's rmse: 3.73981\n",
      "[110]\ttrain's rmse: 3.48941\ttest's rmse: 3.73828\n",
      "[120]\ttrain's rmse: 3.48094\ttest's rmse: 3.73582\n",
      "[130]\ttrain's rmse: 3.47526\ttest's rmse: 3.73439\n",
      "[140]\ttrain's rmse: 3.46995\ttest's rmse: 3.73313\n",
      "[150]\ttrain's rmse: 3.46537\ttest's rmse: 3.73234\n",
      "[160]\ttrain's rmse: 3.461\ttest's rmse: 3.73181\n",
      "[170]\ttrain's rmse: 3.45641\ttest's rmse: 3.7311\n",
      "[180]\ttrain's rmse: 3.45221\ttest's rmse: 3.73063\n",
      "[190]\ttrain's rmse: 3.4478\ttest's rmse: 3.73014\n",
      "[200]\ttrain's rmse: 3.44382\ttest's rmse: 3.72981\n",
      "[210]\ttrain's rmse: 3.44077\ttest's rmse: 3.72968\n",
      "[220]\ttrain's rmse: 3.43776\ttest's rmse: 3.7295\n",
      "[230]\ttrain's rmse: 3.43433\ttest's rmse: 3.72932\n",
      "[240]\ttrain's rmse: 3.43125\ttest's rmse: 3.72916\n",
      "[250]\ttrain's rmse: 3.42779\ttest's rmse: 3.72895\n",
      "[260]\ttrain's rmse: 3.42441\ttest's rmse: 3.72877\n",
      "[270]\ttrain's rmse: 3.42137\ttest's rmse: 3.72869\n",
      "[280]\ttrain's rmse: 3.41875\ttest's rmse: 3.72871\n",
      "[290]\ttrain's rmse: 3.41606\ttest's rmse: 3.72872\n",
      "[300]\ttrain's rmse: 3.41397\ttest's rmse: 3.72871\n",
      "[310]\ttrain's rmse: 3.41105\ttest's rmse: 3.72872\n",
      "[320]\ttrain's rmse: 3.40872\ttest's rmse: 3.72864\n",
      "[330]\ttrain's rmse: 3.40637\ttest's rmse: 3.72867\n",
      "[340]\ttrain's rmse: 3.40372\ttest's rmse: 3.7285\n",
      "[350]\ttrain's rmse: 3.40206\ttest's rmse: 3.72846\n",
      "[360]\ttrain's rmse: 3.39984\ttest's rmse: 3.7286\n",
      "[370]\ttrain's rmse: 3.39702\ttest's rmse: 3.7284\n",
      "[380]\ttrain's rmse: 3.39446\ttest's rmse: 3.72832\n",
      "[390]\ttrain's rmse: 3.39234\ttest's rmse: 3.72842\n",
      "[400]\ttrain's rmse: 3.39003\ttest's rmse: 3.72849\n",
      "[410]\ttrain's rmse: 3.38811\ttest's rmse: 3.72862\n",
      "[420]\ttrain's rmse: 3.38624\ttest's rmse: 3.72853\n",
      "[430]\ttrain's rmse: 3.38432\ttest's rmse: 3.72865\n",
      "[440]\ttrain's rmse: 3.38135\ttest's rmse: 3.72855\n",
      "[450]\ttrain's rmse: 3.37985\ttest's rmse: 3.72862\n",
      "[460]\ttrain's rmse: 3.37796\ttest's rmse: 3.72875\n",
      "[470]\ttrain's rmse: 3.37634\ttest's rmse: 3.72877\n",
      "Early stopping, best iteration is:\n",
      "[379]\ttrain's rmse: 3.39468\ttest's rmse: 3.72824\n"
     ]
    },
    {
     "name": "stderr",
     "output_type": "stream",
     "text": [
      "\r",
      "2it [08:17, 236.87s/it]"
     ]
    },
    {
     "name": "stdout",
     "output_type": "stream",
     "text": [
      "Fold 2 RMSE : 3.728244417189211\n",
      "Training until validation scores don't improve for 100 rounds.\n",
      "[10]\ttrain's rmse: 3.77016\ttest's rmse: 3.77991\n",
      "[20]\ttrain's rmse: 3.71309\ttest's rmse: 3.74304\n",
      "[30]\ttrain's rmse: 3.67187\ttest's rmse: 3.71837\n",
      "[40]\ttrain's rmse: 3.64056\ttest's rmse: 3.70291\n",
      "[50]\ttrain's rmse: 3.61362\ttest's rmse: 3.69241\n",
      "[60]\ttrain's rmse: 3.5929\ttest's rmse: 3.68526\n",
      "[70]\ttrain's rmse: 3.5744\ttest's rmse: 3.67896\n",
      "[80]\ttrain's rmse: 3.56015\ttest's rmse: 3.67516\n",
      "[90]\ttrain's rmse: 3.5474\ttest's rmse: 3.67242\n",
      "[100]\ttrain's rmse: 3.53463\ttest's rmse: 3.6694\n",
      "[110]\ttrain's rmse: 3.52571\ttest's rmse: 3.66824\n",
      "[120]\ttrain's rmse: 3.51846\ttest's rmse: 3.66625\n",
      "[130]\ttrain's rmse: 3.51307\ttest's rmse: 3.66558\n",
      "[140]\ttrain's rmse: 3.5067\ttest's rmse: 3.66467\n",
      "[150]\ttrain's rmse: 3.50071\ttest's rmse: 3.66387\n",
      "[160]\ttrain's rmse: 3.49499\ttest's rmse: 3.66321\n",
      "[170]\ttrain's rmse: 3.49038\ttest's rmse: 3.66288\n",
      "[180]\ttrain's rmse: 3.48503\ttest's rmse: 3.66259\n",
      "[190]\ttrain's rmse: 3.48221\ttest's rmse: 3.6625\n",
      "[200]\ttrain's rmse: 3.47863\ttest's rmse: 3.66237\n",
      "[210]\ttrain's rmse: 3.47553\ttest's rmse: 3.66246\n",
      "[220]\ttrain's rmse: 3.47231\ttest's rmse: 3.6623\n",
      "[230]\ttrain's rmse: 3.46938\ttest's rmse: 3.66218\n",
      "[240]\ttrain's rmse: 3.46639\ttest's rmse: 3.66223\n",
      "[250]\ttrain's rmse: 3.46316\ttest's rmse: 3.66204\n",
      "[260]\ttrain's rmse: 3.46011\ttest's rmse: 3.66212\n",
      "[270]\ttrain's rmse: 3.45717\ttest's rmse: 3.66208\n",
      "[280]\ttrain's rmse: 3.45443\ttest's rmse: 3.66189\n",
      "[290]\ttrain's rmse: 3.45207\ttest's rmse: 3.66212\n",
      "[300]\ttrain's rmse: 3.44948\ttest's rmse: 3.66211\n",
      "[310]\ttrain's rmse: 3.44663\ttest's rmse: 3.66234\n",
      "[320]\ttrain's rmse: 3.44394\ttest's rmse: 3.66233\n",
      "[330]\ttrain's rmse: 3.44154\ttest's rmse: 3.66224\n",
      "[340]\ttrain's rmse: 3.43878\ttest's rmse: 3.66225\n",
      "[350]\ttrain's rmse: 3.43703\ttest's rmse: 3.66213\n",
      "[360]\ttrain's rmse: 3.43455\ttest's rmse: 3.66228\n",
      "[370]\ttrain's rmse: 3.43245\ttest's rmse: 3.66223\n",
      "Early stopping, best iteration is:\n",
      "[278]\ttrain's rmse: 3.455\ttest's rmse: 3.66186\n"
     ]
    },
    {
     "name": "stderr",
     "output_type": "stream",
     "text": [
      "\r",
      "3it [12:04, 233.83s/it]"
     ]
    },
    {
     "name": "stdout",
     "output_type": "stream",
     "text": [
      "Fold 3 RMSE : 3.6618577612555807\n",
      "----------------------------------------------------------------------\n",
      "RESULTS:\n",
      "CV-average RMSE: 3.67 | Valid RMSE: 3.682\n",
      "----------------------------------------------------------------------\n",
      "CPU times: user 45min 22s, sys: 11.6 s, total: 45min 33s\n",
      "Wall time: 13min 12s\n"
     ]
    },
    {
     "name": "stderr",
     "output_type": "stream",
     "text": [
      "\n"
     ]
    }
   ],
   "source": [
    "%%time\n",
    "shallow_trees()"
   ]
  },
  {
   "cell_type": "markdown",
   "metadata": {},
   "source": [
    "#### Additional Feature Engeneering\n",
    "I think that furher parameters tuning could result in slight RMSE improvement, but I beleive, that additional feature engeneering could provide more feasible results."
   ]
  },
  {
   "cell_type": "markdown",
   "metadata": {},
   "source": [
    "##### Adding Transactions Num\n",
    "<i>dump: updating existing train_df & test_df</i>"
   ]
  },
  {
   "cell_type": "code",
   "execution_count": 15,
   "metadata": {
    "code_folding": [
     0
    ]
   },
   "outputs": [],
   "source": [
    "def trans_num_add():\n",
    "    #train and test DataFrames names\n",
    "    dfns = ['train_df', 'test_df']\n",
    "\n",
    "    #transactions files' names\n",
    "    tfns = ['ht_auth', 'ht_den', 'nt']\n",
    "\n",
    "    for dfn in dfns:\n",
    "\n",
    "        #open DataFrame\n",
    "        with open(os.path.join(PATH_TO_DATA, dfn+'.pkl'), 'rb') as pkl_f:\n",
    "            df = pickle.load(pkl_f)\n",
    "\n",
    "        for tfn in tfns:\n",
    "\n",
    "            #open transactions file\n",
    "            with open(os.path.join(PATH_TO_DATA, tfn+'.pkl'), 'rb') as pkl_f:\n",
    "                tf = pickle.load(pkl_f)\n",
    "\n",
    "            #transactions count\n",
    "            f_name = tfn+'_count'\n",
    "            tf = tf.groupby(['card_id'])['card_id'].count().to_frame(name=f_name)\n",
    "\n",
    "            #adding feature to DataFrame\n",
    "            df = df.merge(tf, how='left', left_index=True, right_index=True)\n",
    "            df[f_name] = df[f_name].fillna(0)\n",
    "\n",
    "            #clearing memory\n",
    "            del tf\n",
    "            gc.collect()\n",
    "\n",
    "        #saving DataFrame\n",
    "        with open(os.path.join(PATH_TO_DATA, dfn+'.pkl'), 'wb') as pkl_f:\n",
    "            pickle.dump(df, pkl_f)\n",
    "\n",
    "        #clearing memory\n",
    "        del df\n",
    "        gc.collect()\n",
    "        pass"
   ]
  },
  {
   "cell_type": "code",
   "execution_count": 16,
   "metadata": {
    "cell_style": "center"
   },
   "outputs": [
    {
     "name": "stdout",
     "output_type": "stream",
     "text": [
      "CPU times: user 38.9 s, sys: 19.1 s, total: 58 s\n",
      "Wall time: 2min 35s\n"
     ]
    }
   ],
   "source": [
    "%%time\n",
    "trans_num_add()"
   ]
  },
  {
   "cell_type": "markdown",
   "metadata": {},
   "source": [
    "##### Replacing Purchase_Amount with 'Raw'  Values\n",
    "<i>dump: updating existing train_df & test_df</i>"
   ]
  },
  {
   "cell_type": "code",
   "execution_count": 17,
   "metadata": {
    "code_folding": []
   },
   "outputs": [],
   "source": [
    "def purchase_amount_raw_values():\n",
    "    \n",
    "    for tfn in ['hist_trans', 'new_trans']:\n",
    "    #loading (raw) transaction files\n",
    "        with open(os.path.join(PATH_TO_DATA, tfn+'_reduced_mem_usage.pkl'), 'rb') as pkl_f:\n",
    "            trans_df = pickle.load(pkl_f)\n",
    "\n",
    "        #restoring raw purchase amount\n",
    "        #consider formula here: https://www.kaggle.com/raddar/target-true-meaning-revealed/\n",
    "        trans_df['purchase_amount_raw'] = trans_df['purchase_amount'] / 0.00150265118 + 497.06\n",
    "\n",
    "        #estimating purchase_amount per installment ratios\n",
    "        trans_df['purchase_amount_raw_per_installments']=\\\n",
    "        trans_df['purchase_amount_raw'] / trans_df['installments'].replace([0, 999], np.nan)\n",
    "\n",
    "        if tfn == 'hist_trans':\n",
    "            #splitting hist_trans on authorized and denied transactions\n",
    "            trans_df_auth = trans_df[trans_df['authorized_flag'] == 'Y']\n",
    "            trans_df_den = trans_df[trans_df['authorized_flag'] == 'N']\n",
    "\n",
    "            #clearing memory\n",
    "            del trans_df\n",
    "            gc.collect()\n",
    "            pass\n",
    "\n",
    "            trans_df_list = [trans_df_auth, trans_df_den]\n",
    "            trans_names = ['ht_auth', 'ht_den']\n",
    "\n",
    "        else:\n",
    "            trans_df_list = [trans_df]\n",
    "            trans_names = ['nt']\n",
    "\n",
    "        #aggregation parameters\n",
    "        aggs = {}\n",
    "        for col in ['purchase_amount_raw', 'purchase_amount_raw_per_installments']:\n",
    "            aggs[col] = ['sum', 'max', 'min', 'mean', 'var']\n",
    "    \n",
    "        \n",
    "        for t_df, trans_name in zip(trans_df_list, trans_names):\n",
    "            \n",
    "            #aggregating\n",
    "            df_agg = t_df.reset_index(drop=True).groupby('card_id').agg(aggs)\n",
    "            \n",
    "            #renaming columns\n",
    "            df_agg.columns = [trans_name+'_'+i+'_'+j for i, j in zip(df_agg.columns.get_level_values(0),\n",
    "                                                                     df_agg.columns.get_level_values(1))]\n",
    "            \n",
    "            for dfn in ['train_df', 'test_df']:\n",
    "                \n",
    "                #open train/test DataFrames\n",
    "                with open(os.path.join(PATH_TO_DATA, dfn+'.pkl'), 'rb') as pkl_f:\n",
    "                    df = pickle.load(pkl_f)\n",
    "                \n",
    "                #merging\n",
    "                df = df.merge(df_agg, how='left', left_index=True, right_index=True)\n",
    "                \n",
    "                with open(os.path.join(PATH_TO_DATA, dfn+'.pkl'), 'wb') as pkl_f:\n",
    "                    pickle.dump(df, pkl_f)\n",
    "                \n",
    "                #memory clearing\n",
    "                del df\n",
    "                gc.collect()\n",
    "\n",
    "\n",
    "        #memory clearing\n",
    "        del trans_df_list\n",
    "        gc.collect()"
   ]
  },
  {
   "cell_type": "code",
   "execution_count": 18,
   "metadata": {},
   "outputs": [
    {
     "name": "stdout",
     "output_type": "stream",
     "text": [
      "CPU times: user 1min, sys: 51.8 s, total: 1min 52s\n",
      "Wall time: 6min 39s\n"
     ]
    }
   ],
   "source": [
    "%%time\n",
    "purchase_amount_raw_values()"
   ]
  },
  {
   "cell_type": "markdown",
   "metadata": {},
   "source": [
    "##### Adding Ratios: (1) New Trans. Num. / Hist Trans. Num.; (2) New Trans. Purch. Amount Sum / Hist Trans. Purch. Amount Sum\n",
    "<i>dump: updating existing train_df & test_df</i>"
   ]
  },
  {
   "cell_type": "code",
   "execution_count": 19,
   "metadata": {},
   "outputs": [],
   "source": [
    "def trans_num_and_purch_am_ratios():\n",
    "    #open train and test DataFrames\n",
    "    with open(os.path.join(PATH_TO_DATA, 'train_df.pkl'), 'rb') as pkl_f:\n",
    "        train_df = pickle.load(pkl_f)\n",
    "    with open(os.path.join(PATH_TO_DATA, 'test_df.pkl'), 'rb') as pkl_f:\n",
    "        test_df = pickle.load(pkl_f)\n",
    "\n",
    "    for df in [train_df, test_df]:\n",
    "\n",
    "        #counts\n",
    "        df['nt_count_2_ht_auth_count'] = df['nt_count'] / df['ht_auth_count']\n",
    "        df['ht_den_count_2_ht_auth_count'] = df['ht_den_count'] / df['ht_auth_count']\n",
    "\n",
    "        #sums\n",
    "        df['nt_purchase_amount_raw_sum_2_ht_auth_purchase_amount_raw_sum'] =\\\n",
    "        df['nt_purchase_amount_raw_sum'] / df['ht_auth_purchase_amount_raw_sum']\n",
    "\n",
    "        df['ht_den_purchase_amount_raw_sum_2_ht_auth_purchase_amount_raw_sum'] =\\\n",
    "        df['ht_den_purchase_amount_raw_sum'] / df['ht_auth_purchase_amount_raw_sum']\n",
    "\n",
    "    #dump updated train and test DataFrames\n",
    "    with open(os.path.join(PATH_TO_DATA, 'train_df.pkl'), 'wb') as pkl_f:\n",
    "        pickle.dump(train_df, pkl_f)\n",
    "    with open(os.path.join(PATH_TO_DATA, 'test_df.pkl'), 'wb') as pkl_f:\n",
    "        pickle.dump(test_df, pkl_f)\n",
    "        \n",
    "    #memory clearing\n",
    "    del train_df, test_df\n",
    "    gc.collect()"
   ]
  },
  {
   "cell_type": "code",
   "execution_count": 20,
   "metadata": {},
   "outputs": [
    {
     "name": "stdout",
     "output_type": "stream",
     "text": [
      "CPU times: user 2.95 s, sys: 5.59 s, total: 8.54 s\n",
      "Wall time: 37.4 s\n"
     ]
    }
   ],
   "source": [
    "%%time\n",
    "trans_num_and_purch_am_ratios()"
   ]
  },
  {
   "cell_type": "markdown",
   "metadata": {},
   "source": [
    "##### Feature: Spending per Month Dynamics\n",
    "Let's count spending of each card_id in each month and 'look' at it dynamics in history. For this I'll estimate \\[M+1 purchase amount / M+0 purchase amount\\] ratios, where M - month.\n",
    "\n",
    "Also I'll try to compare dynamics in 2 ways:\n",
    "* by months chronologically;\n",
    "* by month lag (from reference month, which is suposingly a month of Elo's reccomendation algorithm activation).\n",
    "\n",
    "I'd like to remind, that in new_merchant_transactions file are only purchases at merchants, which haven't met historical transactions. Hnce, to make data from historical transactions and new merchant transactions (more or less) consistent, I estimate average spending per merchant."
   ]
  },
  {
   "cell_type": "markdown",
   "metadata": {},
   "source": [
    "###### Preparation of Joint (hist authorized and new) Transactions File\n",
    "<i>hant.pkl</i>\n",
    "* Concatenating historical and new merchant transactions;\n",
    "* Restoring 'raw' purchase amount;\n",
    "* Creating purchase date in MM-YYYY format;\n",
    "* Fullfilling mechant_id NaNs with concatenated merchant_category_id & subsector_id (cause several NaNs per 1 card_id will cause in inproper spending per merchant_id estimation)."
   ]
  },
  {
   "cell_type": "code",
   "execution_count": 21,
   "metadata": {
    "code_folding": [
     0
    ]
   },
   "outputs": [],
   "source": [
    "def prepare_hant():\n",
    "    #loading transactions files\n",
    "    with open(os.path.join(PATH_TO_DATA, 'hist_trans_reduced_mem_usage.pkl'), 'rb') as pkl_f:\n",
    "        hist_trans = pickle.load(pkl_f)\n",
    "    with open(os.path.join(PATH_TO_DATA, 'new_trans_reduced_mem_usage.pkl'), 'rb') as pkl_f:\n",
    "        new_trans = pickle.load(pkl_f)\n",
    "\n",
    "    #restoring raw purchase amount\n",
    "    hist_trans['purchase_amount_raw'] = hist_trans['purchase_amount'] / 0.00150265118 + 497.06\n",
    "    new_trans['purchase_amount_raw'] = new_trans['purchase_amount'] / 0.00150265118 + 497.06\n",
    "\n",
    "    #concatenating Historical_Authorized transactions with New_Transactions\n",
    "    hant = hist_trans[hist_trans['authorized_flag'] == 'Y'].append(new_trans)\n",
    "\n",
    "    #clearing memory\n",
    "    del hist_trans, new_trans\n",
    "    gc.collect()\n",
    "    pass\n",
    "\n",
    "    #purchase_date to_datetime\n",
    "    hant['purchase_date'] = pd.to_datetime(hant['purchase_date'])\n",
    "\n",
    "    #creating purchase_data in yyyymm format\n",
    "    hant['purchase_date_month_year'] =\\\n",
    "    hant['purchase_date'].dt.year * 100 + hant['purchase_date'].dt.month\n",
    "\n",
    "    #replacing NaNs in merchant_id column\n",
    "    nan_idx = hant['merchant_id'].isna()\n",
    "    hant.loc[nan_idx, 'merchant_id'] = 'unknown'\n",
    "    for col in tqdm(['merchant_category_id', 'subsector_id']):\n",
    "        hant.loc[nan_idx, 'merchant_id'] += '_'+hant.loc[nan_idx, col].astype(str)\n",
    "\n",
    "    #saving concatenated transactions file\n",
    "    with open(os.path.join(PATH_TO_DATA, 'hant.pkl'), 'wb') as pkl_f:\n",
    "        pickle.dump(hant, pkl_f)"
   ]
  },
  {
   "cell_type": "code",
   "execution_count": 22,
   "metadata": {
    "code_folding": []
   },
   "outputs": [
    {
     "name": "stderr",
     "output_type": "stream",
     "text": [
      "100%|██████████| 2/2 [00:06<00:00,  3.63s/it]\n"
     ]
    },
    {
     "name": "stdout",
     "output_type": "stream",
     "text": [
      "CPU times: user 1min 1s, sys: 29.6 s, total: 1min 31s\n",
      "Wall time: 4min 11s\n"
     ]
    }
   ],
   "source": [
    "%%time\n",
    "prepare_hant()"
   ]
  },
  {
   "cell_type": "markdown",
   "metadata": {},
   "source": [
    "###### Dynamics by Month\n",
    "<i>dump: new files - train_df_1 & test_df_1</i>\n",
    "\n",
    "CV-average RMSE: 3.662 | Valid RMSE: 3.674"
   ]
  },
  {
   "cell_type": "code",
   "execution_count": 23,
   "metadata": {
    "code_folding": []
   },
   "outputs": [],
   "source": [
    "def dynamics_by_month():\n",
    "    #loading joint transactions file\n",
    "    with open(os.path.join(PATH_TO_DATA, 'hant.pkl'), 'rb') as pkl_f:\n",
    "        hant = pickle.load(pkl_f)\n",
    "\n",
    "    #estimating Spending per Month\n",
    "    sm = hant.groupby(['card_id', 'purchase_date_month_year'])['purchase_amount_raw'].sum().unstack(-1)\n",
    "\n",
    "    #estimating number of Unique Merchant_id per Month\n",
    "    umm = hant.groupby(['card_id', 'purchase_date_month_year'])['merchant_id'].nunique().unstack(-1)\n",
    "\n",
    "    #estimating Average Spending per Merchant_id per Month\n",
    "    asmm = sm / umm\n",
    "\n",
    "    #estimating M+1 / M+0 ratios\n",
    "\n",
    "    #initializing asmm Ratios\n",
    "    asmm_r = pd.DataFrame(index=asmm.index)\n",
    "\n",
    "    for i in range(len(asmm.columns)-1):\n",
    "        M_1 = asmm.columns[i+1]\n",
    "        M_0 = asmm.columns[i]\n",
    "        asmm_r['{}_/_{}'.format(M_1, M_0)] = asmm[M_1] / asmm[M_0]\n",
    "\n",
    "    #initializing asmm Features\n",
    "    asmm_f = pd.DataFrame(index=asmm.index)\n",
    "\n",
    "    #generating features\n",
    "    asmm_f['1M_ratios_mean'] = asmm_r.mean(axis=1)\n",
    "    asmm_f['1M_ratios_min'] = asmm_r.min(axis=1)\n",
    "    asmm_f['1M_ratios_max'] = asmm_r.max(axis=1)\n",
    "    asmm_f['1M_ratios_sum'] = asmm_r.sum(axis=1)\n",
    "    asmm_f['1M_ratios_count'] = asmm_r.count(axis=1)\n",
    "\n",
    "    #adding features to train_df and test_df\n",
    "    for dfn in ['train_df', 'test_df']:\n",
    "        with open(os.path.join(PATH_TO_DATA, dfn+'.pkl'), 'rb') as pkl_f:\n",
    "            df = pickle.load(pkl_f)\n",
    "        df = df.merge(asmm_r, how='left', left_index=True, right_index=True)\n",
    "        df = df.merge(asmm_f, how='left', left_index=True, right_index=True)\n",
    "        with open(os.path.join(PATH_TO_DATA, dfn+'_1.pkl'), 'wb') as pkl_f:\n",
    "            pickle.dump(df, pkl_f)\n",
    "\n",
    "        #clearing memory\n",
    "        del df\n",
    "        gc.collect()\n",
    "        \n",
    "    #clearing_memory\n",
    "    del hant, asmm_r, asmm_f\n",
    "    gc.collect()"
   ]
  },
  {
   "cell_type": "code",
   "execution_count": 24,
   "metadata": {},
   "outputs": [
    {
     "name": "stdout",
     "output_type": "stream",
     "text": [
      "CPU times: user 1min 13s, sys: 13.8 s, total: 1min 27s\n",
      "Wall time: 2min 20s\n"
     ]
    }
   ],
   "source": [
    "%%time\n",
    "dynamics_by_month()"
   ]
  },
  {
   "cell_type": "code",
   "execution_count": 25,
   "metadata": {},
   "outputs": [
    {
     "name": "stdout",
     "output_type": "stream",
     "text": [
      "CPU times: user 1min 33s, sys: 1min, total: 2min 33s\n",
      "Wall time: 10min 46s\n"
     ]
    }
   ],
   "source": [
    "%%time\n",
    "sparse_matrix_prep('train_df_1')\n",
    "sparse_matrix_prep('test_df_1')"
   ]
  },
  {
   "cell_type": "code",
   "execution_count": 26,
   "metadata": {
    "code_folding": [
     0
    ]
   },
   "outputs": [],
   "source": [
    "def shallow_trees_with_dynamics_by_month(return_preds=False):\n",
    "    #open data\n",
    "    with open(os.path.join(PATH_TO_DATA, 'train_df_1_csr.pkl'), 'rb') as pkl_f:\n",
    "                train_df_csr = pickle.load(pkl_f)\n",
    "    with open(os.path.join(PATH_TO_DATA, 'target_df.pkl'), 'rb') as pkl_f:\n",
    "                target_df = pickle.load(pkl_f)\n",
    "\n",
    "    #data train/valid split\n",
    "    X_train, X_valid, y_train, y_valid = train_test_split(train_df_csr, target_df,\n",
    "                                                          test_size=0.33, shuffle=True, random_state=17)\n",
    "    \n",
    "    #parameters for lgb\n",
    "    params ={'task': 'train',\n",
    "             'objective': 'regression',\n",
    "             'metric': 'rmse',\n",
    "\n",
    "             'feature_fraction': 0.75, #1\n",
    "             'subsample': 0.75, # 1\n",
    "\n",
    "             'learning_rate': 0.025, # 0.1\n",
    "             'max_depth': 7, # -1\n",
    "             'num_leaves': 100,# 31\n",
    "\n",
    "             'reg_alpha': 0, # 0\n",
    "             'reg_lambda': 0, # 0\n",
    "\n",
    "             'min_split_gain': 0, #0\n",
    "             'min_data_in_leaf': 100, #20\n",
    "             'min_sum_hessian_in_leaf': 1e-3, # 1e-3\n",
    "\n",
    "             'verbose': -1,\n",
    "\n",
    "             'num_iterations':10000,\n",
    "             'early_stopping_round':100}\n",
    "\n",
    "    #model training\n",
    "    res, preds = kfold_lightgbm(X_train, y_train, X_valid, 3, file=False, params=params)\n",
    "    \n",
    "    #printing results\n",
    "    print('-' * 70)\n",
    "    print('RESULTS:')\n",
    "    print('CV-average RMSE: {} | Valid RMSE: {}'.format(round(rmse_avg(res), 3),\n",
    "                                                        round(rmse(preds, y_valid), 3)))\n",
    "    print('-' * 70)\n",
    "    \n",
    "    #clearing memory\n",
    "    del train_df_csr, target_df\n",
    "    del X_train, X_valid, y_train, y_valid\n",
    "    gc.collect()\n",
    "    \n",
    "    if return_preds == True:\n",
    "        return preds\n",
    "    \n",
    "    del res, preds\n",
    "    gc.collect()"
   ]
  },
  {
   "cell_type": "code",
   "execution_count": 27,
   "metadata": {
    "code_folding": [],
    "scrolled": true
   },
   "outputs": [
    {
     "name": "stderr",
     "output_type": "stream",
     "text": [
      "\r",
      "0it [00:00, ?it/s]"
     ]
    },
    {
     "name": "stdout",
     "output_type": "stream",
     "text": [
      "Training until validation scores don't improve for 100 rounds.\n",
      "[10]\ttrain's rmse: 3.7967\ttest's rmse: 3.7074\n",
      "[20]\ttrain's rmse: 3.73338\ttest's rmse: 3.67097\n",
      "[30]\ttrain's rmse: 3.68638\ttest's rmse: 3.64905\n",
      "[40]\ttrain's rmse: 3.64984\ttest's rmse: 3.63438\n",
      "[50]\ttrain's rmse: 3.62176\ttest's rmse: 3.62538\n",
      "[60]\ttrain's rmse: 3.59745\ttest's rmse: 3.62056\n",
      "[70]\ttrain's rmse: 3.57848\ttest's rmse: 3.61682\n",
      "[80]\ttrain's rmse: 3.56177\ttest's rmse: 3.61453\n",
      "[90]\ttrain's rmse: 3.54827\ttest's rmse: 3.61345\n",
      "[100]\ttrain's rmse: 3.53621\ttest's rmse: 3.61218\n",
      "[110]\ttrain's rmse: 3.52576\ttest's rmse: 3.61122\n",
      "[120]\ttrain's rmse: 3.51764\ttest's rmse: 3.61039\n",
      "[130]\ttrain's rmse: 3.50854\ttest's rmse: 3.61015\n",
      "[140]\ttrain's rmse: 3.50192\ttest's rmse: 3.61002\n",
      "[150]\ttrain's rmse: 3.49693\ttest's rmse: 3.60999\n",
      "[160]\ttrain's rmse: 3.49125\ttest's rmse: 3.60998\n",
      "[170]\ttrain's rmse: 3.4861\ttest's rmse: 3.61012\n",
      "[180]\ttrain's rmse: 3.48143\ttest's rmse: 3.61032\n",
      "[190]\ttrain's rmse: 3.47544\ttest's rmse: 3.61069\n",
      "[200]\ttrain's rmse: 3.47018\ttest's rmse: 3.61116\n",
      "[210]\ttrain's rmse: 3.46633\ttest's rmse: 3.61114\n",
      "[220]\ttrain's rmse: 3.46242\ttest's rmse: 3.6112\n",
      "[230]\ttrain's rmse: 3.45953\ttest's rmse: 3.61129\n",
      "Early stopping, best iteration is:\n",
      "[137]\ttrain's rmse: 3.50382\ttest's rmse: 3.6099\n"
     ]
    },
    {
     "name": "stderr",
     "output_type": "stream",
     "text": [
      "\r",
      "1it [02:42, 162.61s/it]"
     ]
    },
    {
     "name": "stdout",
     "output_type": "stream",
     "text": [
      "Fold 1 RMSE : 3.609895823344217\n",
      "Training until validation scores don't improve for 100 rounds.\n",
      "[10]\ttrain's rmse: 3.72302\ttest's rmse: 3.86985\n",
      "[20]\ttrain's rmse: 3.66611\ttest's rmse: 3.82837\n",
      "[30]\ttrain's rmse: 3.62135\ttest's rmse: 3.80012\n",
      "[40]\ttrain's rmse: 3.5863\ttest's rmse: 3.78148\n",
      "[50]\ttrain's rmse: 3.55896\ttest's rmse: 3.76848\n",
      "[60]\ttrain's rmse: 3.53644\ttest's rmse: 3.75841\n",
      "[70]\ttrain's rmse: 3.51683\ttest's rmse: 3.75073\n",
      "[80]\ttrain's rmse: 3.49906\ttest's rmse: 3.74504\n",
      "[90]\ttrain's rmse: 3.48435\ttest's rmse: 3.73981\n",
      "[100]\ttrain's rmse: 3.47127\ttest's rmse: 3.73689\n",
      "[110]\ttrain's rmse: 3.46259\ttest's rmse: 3.73422\n",
      "[120]\ttrain's rmse: 3.45564\ttest's rmse: 3.73261\n",
      "[130]\ttrain's rmse: 3.44911\ttest's rmse: 3.73114\n",
      "[140]\ttrain's rmse: 3.44401\ttest's rmse: 3.73013\n",
      "[150]\ttrain's rmse: 3.43801\ttest's rmse: 3.72913\n",
      "[160]\ttrain's rmse: 3.43247\ttest's rmse: 3.72847\n",
      "[170]\ttrain's rmse: 3.42777\ttest's rmse: 3.72793\n",
      "[180]\ttrain's rmse: 3.42267\ttest's rmse: 3.72767\n",
      "[190]\ttrain's rmse: 3.41877\ttest's rmse: 3.72735\n",
      "[200]\ttrain's rmse: 3.41474\ttest's rmse: 3.72689\n",
      "[210]\ttrain's rmse: 3.41121\ttest's rmse: 3.72626\n",
      "[220]\ttrain's rmse: 3.4073\ttest's rmse: 3.72617\n",
      "[230]\ttrain's rmse: 3.40378\ttest's rmse: 3.72575\n",
      "[240]\ttrain's rmse: 3.40001\ttest's rmse: 3.72585\n",
      "[250]\ttrain's rmse: 3.39739\ttest's rmse: 3.72582\n",
      "[260]\ttrain's rmse: 3.39417\ttest's rmse: 3.72569\n",
      "[270]\ttrain's rmse: 3.39091\ttest's rmse: 3.72561\n",
      "[280]\ttrain's rmse: 3.38811\ttest's rmse: 3.72577\n",
      "[290]\ttrain's rmse: 3.38575\ttest's rmse: 3.72556\n",
      "[300]\ttrain's rmse: 3.38192\ttest's rmse: 3.72557\n",
      "[310]\ttrain's rmse: 3.37969\ttest's rmse: 3.72564\n",
      "[320]\ttrain's rmse: 3.3772\ttest's rmse: 3.72558\n",
      "[330]\ttrain's rmse: 3.37485\ttest's rmse: 3.72553\n",
      "[340]\ttrain's rmse: 3.37234\ttest's rmse: 3.72575\n",
      "[350]\ttrain's rmse: 3.36958\ttest's rmse: 3.72591\n",
      "[360]\ttrain's rmse: 3.36818\ttest's rmse: 3.72611\n",
      "[370]\ttrain's rmse: 3.36496\ttest's rmse: 3.72606\n",
      "[380]\ttrain's rmse: 3.36297\ttest's rmse: 3.72601\n",
      "[390]\ttrain's rmse: 3.36084\ttest's rmse: 3.72591\n",
      "[400]\ttrain's rmse: 3.35865\ttest's rmse: 3.72578\n",
      "[410]\ttrain's rmse: 3.35681\ttest's rmse: 3.72593\n",
      "Early stopping, best iteration is:\n",
      "[314]\ttrain's rmse: 3.37874\ttest's rmse: 3.72543\n"
     ]
    },
    {
     "name": "stderr",
     "output_type": "stream",
     "text": [
      "\r",
      "2it [06:52, 188.71s/it]"
     ]
    },
    {
     "name": "stdout",
     "output_type": "stream",
     "text": [
      "Fold 2 RMSE : 3.7254277208488173\n",
      "Training until validation scores don't improve for 100 rounds.\n",
      "[10]\ttrain's rmse: 3.76693\ttest's rmse: 3.77789\n",
      "[20]\ttrain's rmse: 3.70431\ttest's rmse: 3.74032\n",
      "[30]\ttrain's rmse: 3.65941\ttest's rmse: 3.71508\n",
      "[40]\ttrain's rmse: 3.62222\ttest's rmse: 3.69731\n",
      "[50]\ttrain's rmse: 3.5937\ttest's rmse: 3.68418\n",
      "[60]\ttrain's rmse: 3.57068\ttest's rmse: 3.67517\n",
      "[70]\ttrain's rmse: 3.55197\ttest's rmse: 3.66887\n",
      "[80]\ttrain's rmse: 3.53581\ttest's rmse: 3.66515\n",
      "[90]\ttrain's rmse: 3.52205\ttest's rmse: 3.66169\n",
      "[100]\ttrain's rmse: 3.50655\ttest's rmse: 3.65841\n",
      "[110]\ttrain's rmse: 3.49625\ttest's rmse: 3.65634\n",
      "[120]\ttrain's rmse: 3.48928\ttest's rmse: 3.65512\n",
      "[130]\ttrain's rmse: 3.48339\ttest's rmse: 3.65403\n",
      "[140]\ttrain's rmse: 3.47776\ttest's rmse: 3.65303\n",
      "[150]\ttrain's rmse: 3.47102\ttest's rmse: 3.65217\n",
      "[160]\ttrain's rmse: 3.4654\ttest's rmse: 3.65151\n",
      "[170]\ttrain's rmse: 3.4608\ttest's rmse: 3.65124\n",
      "[180]\ttrain's rmse: 3.45597\ttest's rmse: 3.65086\n",
      "[190]\ttrain's rmse: 3.45239\ttest's rmse: 3.6506\n",
      "[200]\ttrain's rmse: 3.44776\ttest's rmse: 3.65027\n",
      "[210]\ttrain's rmse: 3.44505\ttest's rmse: 3.65021\n",
      "[220]\ttrain's rmse: 3.44172\ttest's rmse: 3.65006\n",
      "[230]\ttrain's rmse: 3.43826\ttest's rmse: 3.65015\n",
      "[240]\ttrain's rmse: 3.43541\ttest's rmse: 3.65018\n",
      "[250]\ttrain's rmse: 3.43172\ttest's rmse: 3.65036\n",
      "[260]\ttrain's rmse: 3.42924\ttest's rmse: 3.65022\n",
      "[270]\ttrain's rmse: 3.4258\ttest's rmse: 3.65014\n",
      "[280]\ttrain's rmse: 3.4233\ttest's rmse: 3.64994\n",
      "[290]\ttrain's rmse: 3.41936\ttest's rmse: 3.65009\n",
      "[300]\ttrain's rmse: 3.4172\ttest's rmse: 3.65046\n",
      "[310]\ttrain's rmse: 3.41515\ttest's rmse: 3.65024\n",
      "[320]\ttrain's rmse: 3.41199\ttest's rmse: 3.65023\n",
      "[330]\ttrain's rmse: 3.40933\ttest's rmse: 3.65041\n",
      "[340]\ttrain's rmse: 3.40663\ttest's rmse: 3.65049\n",
      "[350]\ttrain's rmse: 3.40471\ttest's rmse: 3.65063\n",
      "[360]\ttrain's rmse: 3.40244\ttest's rmse: 3.65069\n",
      "[370]\ttrain's rmse: 3.40044\ttest's rmse: 3.65087\n",
      "Early stopping, best iteration is:\n",
      "[277]\ttrain's rmse: 3.42393\ttest's rmse: 3.64991\n"
     ]
    },
    {
     "name": "stderr",
     "output_type": "stream",
     "text": [
      "\r",
      "3it [10:42, 201.25s/it]"
     ]
    },
    {
     "name": "stdout",
     "output_type": "stream",
     "text": [
      "Fold 3 RMSE : 3.6499113168451673\n",
      "----------------------------------------------------------------------\n",
      "RESULTS:\n",
      "CV-average RMSE: 3.662 | Valid RMSE: 3.674\n",
      "----------------------------------------------------------------------\n",
      "CPU times: user 38min 49s, sys: 1min 42s, total: 40min 31s\n",
      "Wall time: 11min 18s\n"
     ]
    },
    {
     "name": "stderr",
     "output_type": "stream",
     "text": [
      "\n"
     ]
    }
   ],
   "source": [
    "%%time\n",
    "preds_1 = shallow_trees_with_dynamics_by_month(return_preds=True)"
   ]
  },
  {
   "cell_type": "markdown",
   "metadata": {},
   "source": [
    "###### Dynamics by month_lag\n",
    "dump train_df_2 & test_df_2\n",
    "\n",
    "CV-average RMSE: 3.662 | Valid RMSE: 3.674"
   ]
  },
  {
   "cell_type": "code",
   "execution_count": 28,
   "metadata": {
    "code_folding": [
     0
    ]
   },
   "outputs": [],
   "source": [
    "def dynamics_by_month_lag():\n",
    "    #loading joint transactions file\n",
    "    with open(os.path.join(PATH_TO_DATA, 'hant.pkl'), 'rb') as pkl_f:\n",
    "        hant = pickle.load(pkl_f)\n",
    "\n",
    "    #estimating Spending per Month\n",
    "    sm = hant.groupby(['card_id', 'month_lag'])['purchase_amount_raw'].sum().unstack(-1)\n",
    "\n",
    "    #estimating number of Unique Merchant_id per Month\n",
    "    umm = hant.groupby(['card_id', 'month_lag'])['merchant_id'].nunique().unstack(-1)\n",
    "\n",
    "    #estimating Average Spending per Merchant_id per Month\n",
    "    asmm = sm / umm\n",
    "\n",
    "    #estimating M+1 / M+0 ratios\n",
    "\n",
    "    #initializing asmm Ratios\n",
    "    asmm_r = pd.DataFrame(index=asmm.index)\n",
    "\n",
    "    for i in range(len(asmm.columns)-1):\n",
    "        M_1 = asmm.columns[i+1]\n",
    "        M_0 = asmm.columns[i]\n",
    "        asmm_r['{}_/_{}'.format(M_1, M_0)] = asmm[M_1] / asmm[M_0]\n",
    "\n",
    "    #initializing asmm Features\n",
    "    asmm_f = pd.DataFrame(index=asmm.index)\n",
    "\n",
    "    #generating features\n",
    "    asmm_f['1M_ratios_mean'] = asmm_r.mean(axis=1)\n",
    "    asmm_f['1M_ratios_min'] = asmm_r.min(axis=1)\n",
    "    asmm_f['1M_ratios_max'] = asmm_r.max(axis=1)\n",
    "    asmm_f['1M_ratios_sum'] = asmm_r.sum(axis=1)\n",
    "    asmm_f['1M_ratios_count'] = asmm_r.count(axis=1)\n",
    "\n",
    "    #adding features to train_df and test_df\n",
    "    for dfn in ['train_df', 'test_df']:\n",
    "        with open(os.path.join(PATH_TO_DATA, dfn+'.pkl'), 'rb') as pkl_f:\n",
    "            df = pickle.load(pkl_f)\n",
    "        df = df.merge(asmm_r, how='left', left_index=True, right_index=True)\n",
    "        df = df.merge(asmm_f, how='left', left_index=True, right_index=True)\n",
    "        with open(os.path.join(PATH_TO_DATA, dfn+'_2.pkl'), 'wb') as pkl_f:\n",
    "            pickle.dump(df, pkl_f)\n",
    "\n",
    "        #clearing memory\n",
    "        del df\n",
    "        gc.collect()\n",
    "        \n",
    "    #clearing_memory\n",
    "    del hant, asmm_r, asmm_f\n",
    "    gc.collect()"
   ]
  },
  {
   "cell_type": "code",
   "execution_count": 29,
   "metadata": {},
   "outputs": [
    {
     "name": "stdout",
     "output_type": "stream",
     "text": [
      "CPU times: user 1min 13s, sys: 14.7 s, total: 1min 28s\n",
      "Wall time: 2min 34s\n"
     ]
    }
   ],
   "source": [
    "%%time\n",
    "dynamics_by_month_lag()"
   ]
  },
  {
   "cell_type": "code",
   "execution_count": 30,
   "metadata": {},
   "outputs": [
    {
     "name": "stdout",
     "output_type": "stream",
     "text": [
      "CPU times: user 1min 25s, sys: 57.9 s, total: 2min 23s\n",
      "Wall time: 9min 39s\n"
     ]
    }
   ],
   "source": [
    "%%time\n",
    "sparse_matrix_prep('train_df_2')\n",
    "sparse_matrix_prep('test_df_2')"
   ]
  },
  {
   "cell_type": "code",
   "execution_count": 31,
   "metadata": {
    "code_folding": [
     0
    ]
   },
   "outputs": [],
   "source": [
    "def shallow_trees_with_dynamics_by_month_lag(return_preds=False):\n",
    "    #open data\n",
    "    with open(os.path.join(PATH_TO_DATA, 'train_df_1_csr.pkl'), 'rb') as pkl_f:\n",
    "                train_df_csr = pickle.load(pkl_f)\n",
    "    with open(os.path.join(PATH_TO_DATA, 'target_df.pkl'), 'rb') as pkl_f:\n",
    "                target_df = pickle.load(pkl_f)\n",
    "\n",
    "    #data train/valid split\n",
    "    X_train, X_valid, y_train, y_valid = train_test_split(train_df_csr, target_df,\n",
    "                                                          test_size=0.33, shuffle=True, random_state=17)\n",
    "    \n",
    "    #parameters for lgb\n",
    "    params ={'task': 'train',\n",
    "             'objective': 'regression',\n",
    "             'metric': 'rmse',\n",
    "\n",
    "             'feature_fraction': 0.75, #1\n",
    "             'subsample': 0.75, # 1\n",
    "\n",
    "             'learning_rate': 0.025, # 0.1\n",
    "             'max_depth': 7, # -1\n",
    "             'num_leaves': 100,# 31\n",
    "\n",
    "             'reg_alpha': 0, # 0\n",
    "             'reg_lambda': 0, # 0\n",
    "\n",
    "             'min_split_gain': 0, #0\n",
    "             'min_data_in_leaf': 100, #20\n",
    "             'min_sum_hessian_in_leaf': 1e-3, # 1e-3\n",
    "\n",
    "             'verbose': -1,\n",
    "\n",
    "             'num_iterations':10000,\n",
    "             'early_stopping_round':100}\n",
    "\n",
    "    #model training\n",
    "    res, preds = kfold_lightgbm(X_train, y_train, X_valid, 3, file=False, params=params)\n",
    "    \n",
    "    #printing results\n",
    "    print('-' * 70)\n",
    "    print('RESULTS:')\n",
    "    print('CV-average RMSE: {} | Valid RMSE: {}'.format(round(rmse_avg(res), 3),\n",
    "                                                        round(rmse(preds, y_valid), 3)))\n",
    "    print('-' * 70)\n",
    "    \n",
    "    #clearing memory\n",
    "    del train_df_csr, target_df\n",
    "    del X_train, X_valid, y_train, y_valid\n",
    "    gc.collect()\n",
    "    \n",
    "    if return_preds == True:\n",
    "        return preds\n",
    "    \n",
    "    del res, preds\n",
    "    gc.collect()"
   ]
  },
  {
   "cell_type": "code",
   "execution_count": 32,
   "metadata": {
    "code_folding": [],
    "scrolled": true
   },
   "outputs": [
    {
     "name": "stderr",
     "output_type": "stream",
     "text": [
      "\r",
      "0it [00:00, ?it/s]"
     ]
    },
    {
     "name": "stdout",
     "output_type": "stream",
     "text": [
      "Training until validation scores don't improve for 100 rounds.\n",
      "[10]\ttrain's rmse: 3.7967\ttest's rmse: 3.7074\n",
      "[20]\ttrain's rmse: 3.73338\ttest's rmse: 3.67097\n",
      "[30]\ttrain's rmse: 3.68638\ttest's rmse: 3.64905\n",
      "[40]\ttrain's rmse: 3.64984\ttest's rmse: 3.63438\n",
      "[50]\ttrain's rmse: 3.62176\ttest's rmse: 3.62538\n",
      "[60]\ttrain's rmse: 3.59745\ttest's rmse: 3.62056\n",
      "[70]\ttrain's rmse: 3.57848\ttest's rmse: 3.61682\n",
      "[80]\ttrain's rmse: 3.56177\ttest's rmse: 3.61453\n",
      "[90]\ttrain's rmse: 3.54827\ttest's rmse: 3.61345\n",
      "[100]\ttrain's rmse: 3.53621\ttest's rmse: 3.61218\n",
      "[110]\ttrain's rmse: 3.52576\ttest's rmse: 3.61122\n",
      "[120]\ttrain's rmse: 3.51764\ttest's rmse: 3.61039\n",
      "[130]\ttrain's rmse: 3.50854\ttest's rmse: 3.61015\n",
      "[140]\ttrain's rmse: 3.50192\ttest's rmse: 3.61002\n",
      "[150]\ttrain's rmse: 3.49693\ttest's rmse: 3.60999\n",
      "[160]\ttrain's rmse: 3.49125\ttest's rmse: 3.60998\n",
      "[170]\ttrain's rmse: 3.4861\ttest's rmse: 3.61012\n",
      "[180]\ttrain's rmse: 3.48143\ttest's rmse: 3.61032\n",
      "[190]\ttrain's rmse: 3.47544\ttest's rmse: 3.61069\n",
      "[200]\ttrain's rmse: 3.47018\ttest's rmse: 3.61116\n",
      "[210]\ttrain's rmse: 3.46633\ttest's rmse: 3.61114\n",
      "[220]\ttrain's rmse: 3.46242\ttest's rmse: 3.6112\n",
      "[230]\ttrain's rmse: 3.45953\ttest's rmse: 3.61129\n",
      "Early stopping, best iteration is:\n",
      "[137]\ttrain's rmse: 3.50382\ttest's rmse: 3.6099\n"
     ]
    },
    {
     "name": "stderr",
     "output_type": "stream",
     "text": [
      "\r",
      "1it [02:48, 168.05s/it]"
     ]
    },
    {
     "name": "stdout",
     "output_type": "stream",
     "text": [
      "Fold 1 RMSE : 3.609895823344217\n",
      "Training until validation scores don't improve for 100 rounds.\n",
      "[10]\ttrain's rmse: 3.72302\ttest's rmse: 3.86985\n",
      "[20]\ttrain's rmse: 3.66611\ttest's rmse: 3.82837\n",
      "[30]\ttrain's rmse: 3.62135\ttest's rmse: 3.80012\n",
      "[40]\ttrain's rmse: 3.5863\ttest's rmse: 3.78148\n",
      "[50]\ttrain's rmse: 3.55896\ttest's rmse: 3.76848\n",
      "[60]\ttrain's rmse: 3.53644\ttest's rmse: 3.75841\n",
      "[70]\ttrain's rmse: 3.51683\ttest's rmse: 3.75073\n",
      "[80]\ttrain's rmse: 3.49906\ttest's rmse: 3.74504\n",
      "[90]\ttrain's rmse: 3.48435\ttest's rmse: 3.73981\n",
      "[100]\ttrain's rmse: 3.47127\ttest's rmse: 3.73689\n",
      "[110]\ttrain's rmse: 3.46259\ttest's rmse: 3.73422\n",
      "[120]\ttrain's rmse: 3.45564\ttest's rmse: 3.73261\n",
      "[130]\ttrain's rmse: 3.44911\ttest's rmse: 3.73114\n",
      "[140]\ttrain's rmse: 3.44401\ttest's rmse: 3.73013\n",
      "[150]\ttrain's rmse: 3.43801\ttest's rmse: 3.72913\n",
      "[160]\ttrain's rmse: 3.43247\ttest's rmse: 3.72847\n",
      "[170]\ttrain's rmse: 3.42777\ttest's rmse: 3.72793\n",
      "[180]\ttrain's rmse: 3.42267\ttest's rmse: 3.72767\n",
      "[190]\ttrain's rmse: 3.41877\ttest's rmse: 3.72735\n",
      "[200]\ttrain's rmse: 3.41474\ttest's rmse: 3.72689\n",
      "[210]\ttrain's rmse: 3.41121\ttest's rmse: 3.72626\n",
      "[220]\ttrain's rmse: 3.4073\ttest's rmse: 3.72617\n",
      "[230]\ttrain's rmse: 3.40378\ttest's rmse: 3.72575\n",
      "[240]\ttrain's rmse: 3.40001\ttest's rmse: 3.72585\n",
      "[250]\ttrain's rmse: 3.39739\ttest's rmse: 3.72582\n",
      "[260]\ttrain's rmse: 3.39417\ttest's rmse: 3.72569\n",
      "[270]\ttrain's rmse: 3.39091\ttest's rmse: 3.72561\n",
      "[280]\ttrain's rmse: 3.38811\ttest's rmse: 3.72577\n",
      "[290]\ttrain's rmse: 3.38575\ttest's rmse: 3.72556\n",
      "[300]\ttrain's rmse: 3.38192\ttest's rmse: 3.72557\n",
      "[310]\ttrain's rmse: 3.37969\ttest's rmse: 3.72564\n",
      "[320]\ttrain's rmse: 3.3772\ttest's rmse: 3.72558\n",
      "[330]\ttrain's rmse: 3.37485\ttest's rmse: 3.72553\n",
      "[340]\ttrain's rmse: 3.37234\ttest's rmse: 3.72575\n",
      "[350]\ttrain's rmse: 3.36958\ttest's rmse: 3.72591\n",
      "[360]\ttrain's rmse: 3.36818\ttest's rmse: 3.72611\n",
      "[370]\ttrain's rmse: 3.36496\ttest's rmse: 3.72606\n",
      "[380]\ttrain's rmse: 3.36297\ttest's rmse: 3.72601\n",
      "[390]\ttrain's rmse: 3.36084\ttest's rmse: 3.72591\n",
      "[400]\ttrain's rmse: 3.35865\ttest's rmse: 3.72578\n",
      "[410]\ttrain's rmse: 3.35681\ttest's rmse: 3.72593\n",
      "Early stopping, best iteration is:\n",
      "[314]\ttrain's rmse: 3.37874\ttest's rmse: 3.72543\n"
     ]
    },
    {
     "name": "stderr",
     "output_type": "stream",
     "text": [
      "\r",
      "2it [06:57, 192.52s/it]"
     ]
    },
    {
     "name": "stdout",
     "output_type": "stream",
     "text": [
      "Fold 2 RMSE : 3.7254277208488173\n",
      "Training until validation scores don't improve for 100 rounds.\n",
      "[10]\ttrain's rmse: 3.76693\ttest's rmse: 3.77789\n",
      "[20]\ttrain's rmse: 3.70431\ttest's rmse: 3.74032\n",
      "[30]\ttrain's rmse: 3.65941\ttest's rmse: 3.71508\n",
      "[40]\ttrain's rmse: 3.62222\ttest's rmse: 3.69731\n",
      "[50]\ttrain's rmse: 3.5937\ttest's rmse: 3.68418\n",
      "[60]\ttrain's rmse: 3.57068\ttest's rmse: 3.67517\n",
      "[70]\ttrain's rmse: 3.55197\ttest's rmse: 3.66887\n",
      "[80]\ttrain's rmse: 3.53581\ttest's rmse: 3.66515\n",
      "[90]\ttrain's rmse: 3.52205\ttest's rmse: 3.66169\n",
      "[100]\ttrain's rmse: 3.50655\ttest's rmse: 3.65841\n",
      "[110]\ttrain's rmse: 3.49625\ttest's rmse: 3.65634\n",
      "[120]\ttrain's rmse: 3.48928\ttest's rmse: 3.65512\n",
      "[130]\ttrain's rmse: 3.48339\ttest's rmse: 3.65403\n",
      "[140]\ttrain's rmse: 3.47776\ttest's rmse: 3.65303\n",
      "[150]\ttrain's rmse: 3.47102\ttest's rmse: 3.65217\n",
      "[160]\ttrain's rmse: 3.4654\ttest's rmse: 3.65151\n",
      "[170]\ttrain's rmse: 3.4608\ttest's rmse: 3.65124\n",
      "[180]\ttrain's rmse: 3.45597\ttest's rmse: 3.65086\n",
      "[190]\ttrain's rmse: 3.45239\ttest's rmse: 3.6506\n",
      "[200]\ttrain's rmse: 3.44776\ttest's rmse: 3.65027\n",
      "[210]\ttrain's rmse: 3.44505\ttest's rmse: 3.65021\n",
      "[220]\ttrain's rmse: 3.44172\ttest's rmse: 3.65006\n",
      "[230]\ttrain's rmse: 3.43826\ttest's rmse: 3.65015\n",
      "[240]\ttrain's rmse: 3.43541\ttest's rmse: 3.65018\n",
      "[250]\ttrain's rmse: 3.43172\ttest's rmse: 3.65036\n",
      "[260]\ttrain's rmse: 3.42924\ttest's rmse: 3.65022\n",
      "[270]\ttrain's rmse: 3.4258\ttest's rmse: 3.65014\n",
      "[280]\ttrain's rmse: 3.4233\ttest's rmse: 3.64994\n",
      "[290]\ttrain's rmse: 3.41936\ttest's rmse: 3.65009\n",
      "[300]\ttrain's rmse: 3.4172\ttest's rmse: 3.65046\n",
      "[310]\ttrain's rmse: 3.41515\ttest's rmse: 3.65024\n",
      "[320]\ttrain's rmse: 3.41199\ttest's rmse: 3.65023\n",
      "[330]\ttrain's rmse: 3.40933\ttest's rmse: 3.65041\n",
      "[340]\ttrain's rmse: 3.40663\ttest's rmse: 3.65049\n",
      "[350]\ttrain's rmse: 3.40471\ttest's rmse: 3.65063\n",
      "[360]\ttrain's rmse: 3.40244\ttest's rmse: 3.65069\n",
      "[370]\ttrain's rmse: 3.40044\ttest's rmse: 3.65087\n",
      "Early stopping, best iteration is:\n",
      "[277]\ttrain's rmse: 3.42393\ttest's rmse: 3.64991\n"
     ]
    },
    {
     "name": "stderr",
     "output_type": "stream",
     "text": [
      "\r",
      "3it [10:58, 206.97s/it]"
     ]
    },
    {
     "name": "stdout",
     "output_type": "stream",
     "text": [
      "Fold 3 RMSE : 3.6499113168451673\n",
      "----------------------------------------------------------------------\n",
      "RESULTS:\n",
      "CV-average RMSE: 3.662 | Valid RMSE: 3.674\n",
      "----------------------------------------------------------------------\n",
      "CPU times: user 38min 57s, sys: 1min 55s, total: 40min 53s\n",
      "Wall time: 11min 4s\n"
     ]
    },
    {
     "name": "stderr",
     "output_type": "stream",
     "text": [
      "\n"
     ]
    }
   ],
   "source": [
    "%%time\n",
    "preds_2 = shallow_trees_with_dynamics_by_month_lag(return_preds=True)"
   ]
  },
  {
   "cell_type": "markdown",
   "metadata": {},
   "source": [
    "#### 2 Models Blending\n",
    "\n",
    "Models trained on both features sets(dynamics_by_month, dynamics_by_month_lag) provided similar results improvement, hence I try to blend its results."
   ]
  },
  {
   "cell_type": "code",
   "execution_count": 33,
   "metadata": {},
   "outputs": [
    {
     "name": "stdout",
     "output_type": "stream",
     "text": [
      "Valid RMSE: 3.674\n"
     ]
    }
   ],
   "source": [
    "with open(os.path.join(PATH_TO_DATA, 'target_df.pkl'), 'rb') as pkl_f:\n",
    "    target_df = pickle.load(pkl_f)\n",
    "\n",
    "_, y_valid = train_test_split(target_df, test_size=0.33, shuffle=True, random_state=17)\n",
    "    \n",
    "preds = preds_1 * 0.5 + preds_2 * 0.5\n",
    "\n",
    "print('Valid RMSE: {}'.format(round(rmse(preds, y_valid), 3)))"
   ]
  },
  {
   "cell_type": "markdown",
   "metadata": {},
   "source": [
    "### Training Models on Full Datasets and Submission"
   ]
  },
  {
   "cell_type": "code",
   "execution_count": 34,
   "metadata": {
    "code_folding": []
   },
   "outputs": [],
   "source": [
    "def shallow_trees_with_dynamics_by_month_full(return_preds=False):\n",
    "    #open data\n",
    "    with open(os.path.join(PATH_TO_DATA, 'train_df_1_csr.pkl'), 'rb') as pkl_f:\n",
    "                X_train = pickle.load(pkl_f)\n",
    "    with open(os.path.join(PATH_TO_DATA, 'test_df_1_csr.pkl'), 'rb') as pkl_f:\n",
    "                X_test = pickle.load(pkl_f)\n",
    "    with open(os.path.join(PATH_TO_DATA, 'target_df.pkl'), 'rb') as pkl_f:\n",
    "                y_train = pickle.load(pkl_f)\n",
    "\n",
    "    #parameters for lgb\n",
    "    params ={'task': 'train',\n",
    "             'objective': 'regression',\n",
    "             'metric': 'rmse',\n",
    "\n",
    "             'feature_fraction': 0.75, #1\n",
    "             'subsample': 0.75, # 1\n",
    "\n",
    "             'learning_rate': 0.025, # 0.1\n",
    "             'max_depth': 7, # -1\n",
    "             'num_leaves': 100,# 31\n",
    "\n",
    "             'reg_alpha': 0, # 0\n",
    "             'reg_lambda': 0, # 0\n",
    "\n",
    "             'min_split_gain': 0, #0\n",
    "             'min_data_in_leaf': 100, #20\n",
    "             'min_sum_hessian_in_leaf': 1e-3, # 1e-3\n",
    "\n",
    "             'verbose': -1,\n",
    "\n",
    "             'num_iterations':10000,\n",
    "             'early_stopping_round':100}\n",
    "\n",
    "    #model training\n",
    "    res, preds = kfold_lightgbm(X_train, y_train, X_test, 3, file=False, params=params)\n",
    "    \n",
    "    #printing results\n",
    "    print('-' * 70)\n",
    "    print('RESULTS:')\n",
    "    print('CV-average RMSE: {}'.format(round(rmse_avg(res), 3)))\n",
    "    print('-' * 70)\n",
    "    \n",
    "    #clearing memory\n",
    "    del X_train, X_test, y_train\n",
    "    gc.collect()\n",
    "    \n",
    "    if return_preds == True:\n",
    "        return preds\n",
    "    \n",
    "    del res, preds\n",
    "    gc.collect()"
   ]
  },
  {
   "cell_type": "code",
   "execution_count": 35,
   "metadata": {
    "code_folding": [],
    "scrolled": true
   },
   "outputs": [
    {
     "name": "stderr",
     "output_type": "stream",
     "text": [
      "\r",
      "0it [00:00, ?it/s]"
     ]
    },
    {
     "name": "stdout",
     "output_type": "stream",
     "text": [
      "Training until validation scores don't improve for 100 rounds.\n",
      "[10]\ttrain's rmse: 3.76625\ttest's rmse: 3.79299\n",
      "[20]\ttrain's rmse: 3.70715\ttest's rmse: 3.75386\n",
      "[30]\ttrain's rmse: 3.66257\ttest's rmse: 3.72711\n",
      "[40]\ttrain's rmse: 3.62874\ttest's rmse: 3.70982\n",
      "[50]\ttrain's rmse: 3.60199\ttest's rmse: 3.69938\n",
      "[60]\ttrain's rmse: 3.57922\ttest's rmse: 3.69115\n",
      "[70]\ttrain's rmse: 3.56123\ttest's rmse: 3.68635\n",
      "[80]\ttrain's rmse: 3.54455\ttest's rmse: 3.68337\n",
      "[90]\ttrain's rmse: 3.52965\ttest's rmse: 3.68035\n",
      "[100]\ttrain's rmse: 3.51683\ttest's rmse: 3.67839\n",
      "[110]\ttrain's rmse: 3.50586\ttest's rmse: 3.67656\n",
      "[120]\ttrain's rmse: 3.4969\ttest's rmse: 3.67524\n",
      "[130]\ttrain's rmse: 3.48929\ttest's rmse: 3.67407\n",
      "[140]\ttrain's rmse: 3.48318\ttest's rmse: 3.67337\n",
      "[150]\ttrain's rmse: 3.47925\ttest's rmse: 3.67267\n",
      "[160]\ttrain's rmse: 3.47609\ttest's rmse: 3.67218\n",
      "[170]\ttrain's rmse: 3.4728\ttest's rmse: 3.67177\n",
      "[180]\ttrain's rmse: 3.46994\ttest's rmse: 3.67162\n",
      "[190]\ttrain's rmse: 3.46699\ttest's rmse: 3.67144\n",
      "[200]\ttrain's rmse: 3.46381\ttest's rmse: 3.6713\n",
      "[210]\ttrain's rmse: 3.46135\ttest's rmse: 3.67143\n",
      "[220]\ttrain's rmse: 3.4593\ttest's rmse: 3.67127\n",
      "[230]\ttrain's rmse: 3.45667\ttest's rmse: 3.67134\n",
      "[240]\ttrain's rmse: 3.45399\ttest's rmse: 3.6714\n",
      "[250]\ttrain's rmse: 3.45133\ttest's rmse: 3.67115\n",
      "[260]\ttrain's rmse: 3.44896\ttest's rmse: 3.67115\n",
      "[270]\ttrain's rmse: 3.44682\ttest's rmse: 3.67125\n",
      "[280]\ttrain's rmse: 3.44418\ttest's rmse: 3.67129\n",
      "[290]\ttrain's rmse: 3.44194\ttest's rmse: 3.67114\n",
      "[300]\ttrain's rmse: 3.44017\ttest's rmse: 3.67096\n",
      "[310]\ttrain's rmse: 3.43811\ttest's rmse: 3.67097\n",
      "[320]\ttrain's rmse: 3.43643\ttest's rmse: 3.67099\n",
      "[330]\ttrain's rmse: 3.43491\ttest's rmse: 3.6711\n",
      "[340]\ttrain's rmse: 3.43276\ttest's rmse: 3.67137\n",
      "[350]\ttrain's rmse: 3.43058\ttest's rmse: 3.67129\n",
      "[360]\ttrain's rmse: 3.4279\ttest's rmse: 3.67116\n",
      "[370]\ttrain's rmse: 3.42608\ttest's rmse: 3.67114\n",
      "[380]\ttrain's rmse: 3.42426\ttest's rmse: 3.67132\n",
      "[390]\ttrain's rmse: 3.4222\ttest's rmse: 3.67142\n",
      "[400]\ttrain's rmse: 3.42024\ttest's rmse: 3.67153\n",
      "[410]\ttrain's rmse: 3.41856\ttest's rmse: 3.67148\n",
      "Early stopping, best iteration is:\n",
      "[312]\ttrain's rmse: 3.43779\ttest's rmse: 3.67089\n"
     ]
    },
    {
     "name": "stderr",
     "output_type": "stream",
     "text": [
      "\r",
      "1it [05:58, 358.82s/it]"
     ]
    },
    {
     "name": "stdout",
     "output_type": "stream",
     "text": [
      "Fold 1 RMSE : 3.6708927292313662\n",
      "Training until validation scores don't improve for 100 rounds.\n",
      "[10]\ttrain's rmse: 3.75726\ttest's rmse: 3.81156\n",
      "[20]\ttrain's rmse: 3.7\ttest's rmse: 3.77218\n",
      "[30]\ttrain's rmse: 3.65676\ttest's rmse: 3.74695\n",
      "[40]\ttrain's rmse: 3.62393\ttest's rmse: 3.73021\n",
      "[50]\ttrain's rmse: 3.59832\ttest's rmse: 3.71902\n",
      "[60]\ttrain's rmse: 3.57621\ttest's rmse: 3.70998\n",
      "[70]\ttrain's rmse: 3.55809\ttest's rmse: 3.70431\n",
      "[80]\ttrain's rmse: 3.54406\ttest's rmse: 3.70053\n",
      "[90]\ttrain's rmse: 3.53161\ttest's rmse: 3.69768\n",
      "[100]\ttrain's rmse: 3.5202\ttest's rmse: 3.69443\n",
      "[110]\ttrain's rmse: 3.51037\ttest's rmse: 3.69242\n",
      "[120]\ttrain's rmse: 3.50232\ttest's rmse: 3.69076\n",
      "[130]\ttrain's rmse: 3.4963\ttest's rmse: 3.68985\n",
      "[140]\ttrain's rmse: 3.49006\ttest's rmse: 3.68913\n",
      "[150]\ttrain's rmse: 3.48487\ttest's rmse: 3.68875\n",
      "[160]\ttrain's rmse: 3.48058\ttest's rmse: 3.68823\n",
      "[170]\ttrain's rmse: 3.47682\ttest's rmse: 3.68798\n",
      "[180]\ttrain's rmse: 3.47335\ttest's rmse: 3.68783\n",
      "[190]\ttrain's rmse: 3.46989\ttest's rmse: 3.68764\n",
      "[200]\ttrain's rmse: 3.46674\ttest's rmse: 3.68752\n",
      "[210]\ttrain's rmse: 3.46367\ttest's rmse: 3.68756\n",
      "[220]\ttrain's rmse: 3.46085\ttest's rmse: 3.68765\n",
      "[230]\ttrain's rmse: 3.45805\ttest's rmse: 3.6876\n",
      "[240]\ttrain's rmse: 3.4545\ttest's rmse: 3.68747\n",
      "[250]\ttrain's rmse: 3.45087\ttest's rmse: 3.68759\n",
      "[260]\ttrain's rmse: 3.4483\ttest's rmse: 3.68758\n",
      "[270]\ttrain's rmse: 3.44585\ttest's rmse: 3.6877\n",
      "[280]\ttrain's rmse: 3.44333\ttest's rmse: 3.68761\n",
      "[290]\ttrain's rmse: 3.44058\ttest's rmse: 3.68763\n",
      "[300]\ttrain's rmse: 3.4379\ttest's rmse: 3.68777\n",
      "[310]\ttrain's rmse: 3.4361\ttest's rmse: 3.68772\n",
      "Early stopping, best iteration is:\n",
      "[211]\ttrain's rmse: 3.46328\ttest's rmse: 3.68746\n"
     ]
    },
    {
     "name": "stderr",
     "output_type": "stream",
     "text": [
      "\r",
      "2it [11:07, 343.91s/it]"
     ]
    },
    {
     "name": "stdout",
     "output_type": "stream",
     "text": [
      "Fold 2 RMSE : 3.687462014830268\n",
      "Training until validation scores don't improve for 100 rounds.\n",
      "[10]\ttrain's rmse: 3.78498\ttest's rmse: 3.76116\n",
      "[20]\ttrain's rmse: 3.72843\ttest's rmse: 3.71982\n",
      "[30]\ttrain's rmse: 3.68461\ttest's rmse: 3.69104\n",
      "[40]\ttrain's rmse: 3.65066\ttest's rmse: 3.67243\n",
      "[50]\ttrain's rmse: 3.62491\ttest's rmse: 3.65964\n",
      "[60]\ttrain's rmse: 3.6039\ttest's rmse: 3.65103\n",
      "[70]\ttrain's rmse: 3.58561\ttest's rmse: 3.64435\n",
      "[80]\ttrain's rmse: 3.57114\ttest's rmse: 3.63982\n",
      "[90]\ttrain's rmse: 3.55783\ttest's rmse: 3.63653\n",
      "[100]\ttrain's rmse: 3.54722\ttest's rmse: 3.6341\n",
      "[110]\ttrain's rmse: 3.53792\ttest's rmse: 3.63187\n",
      "[120]\ttrain's rmse: 3.53177\ttest's rmse: 3.63035\n",
      "[130]\ttrain's rmse: 3.52599\ttest's rmse: 3.62903\n",
      "[140]\ttrain's rmse: 3.52091\ttest's rmse: 3.62805\n",
      "[150]\ttrain's rmse: 3.51593\ttest's rmse: 3.62708\n",
      "[160]\ttrain's rmse: 3.51102\ttest's rmse: 3.62661\n",
      "[170]\ttrain's rmse: 3.50831\ttest's rmse: 3.62636\n",
      "[180]\ttrain's rmse: 3.50527\ttest's rmse: 3.6263\n",
      "[190]\ttrain's rmse: 3.50118\ttest's rmse: 3.62592\n",
      "[200]\ttrain's rmse: 3.49838\ttest's rmse: 3.62581\n",
      "[210]\ttrain's rmse: 3.49587\ttest's rmse: 3.62573\n",
      "[220]\ttrain's rmse: 3.49334\ttest's rmse: 3.62576\n",
      "[230]\ttrain's rmse: 3.49156\ttest's rmse: 3.62577\n",
      "[240]\ttrain's rmse: 3.48888\ttest's rmse: 3.62551\n",
      "[250]\ttrain's rmse: 3.48627\ttest's rmse: 3.6253\n",
      "[260]\ttrain's rmse: 3.48337\ttest's rmse: 3.62516\n",
      "[270]\ttrain's rmse: 3.48111\ttest's rmse: 3.62522\n",
      "[280]\ttrain's rmse: 3.47904\ttest's rmse: 3.62506\n",
      "[290]\ttrain's rmse: 3.47683\ttest's rmse: 3.62505\n",
      "[300]\ttrain's rmse: 3.47458\ttest's rmse: 3.62518\n",
      "[310]\ttrain's rmse: 3.47224\ttest's rmse: 3.62497\n",
      "[320]\ttrain's rmse: 3.47031\ttest's rmse: 3.62498\n",
      "[330]\ttrain's rmse: 3.46797\ttest's rmse: 3.62499\n",
      "[340]\ttrain's rmse: 3.46534\ttest's rmse: 3.62519\n",
      "[350]\ttrain's rmse: 3.46321\ttest's rmse: 3.62528\n",
      "[360]\ttrain's rmse: 3.46135\ttest's rmse: 3.62545\n",
      "[370]\ttrain's rmse: 3.45963\ttest's rmse: 3.62554\n",
      "[380]\ttrain's rmse: 3.45763\ttest's rmse: 3.62576\n",
      "[390]\ttrain's rmse: 3.45582\ttest's rmse: 3.62573\n",
      "[400]\ttrain's rmse: 3.45343\ttest's rmse: 3.62559\n",
      "[410]\ttrain's rmse: 3.45149\ttest's rmse: 3.62566\n",
      "Early stopping, best iteration is:\n",
      "[317]\ttrain's rmse: 3.47082\ttest's rmse: 3.62492\n"
     ]
    },
    {
     "name": "stderr",
     "output_type": "stream",
     "text": [
      "\r",
      "3it [17:28, 355.00s/it]"
     ]
    },
    {
     "name": "stdout",
     "output_type": "stream",
     "text": [
      "Fold 3 RMSE : 3.6249218036682875\n",
      "----------------------------------------------------------------------\n",
      "RESULTS:\n",
      "CV-average RMSE: 3.661\n",
      "----------------------------------------------------------------------\n",
      "CPU times: user 1h 3min 3s, sys: 2min 17s, total: 1h 5min 21s\n",
      "Wall time: 17min 35s\n"
     ]
    },
    {
     "name": "stderr",
     "output_type": "stream",
     "text": [
      "\n"
     ]
    }
   ],
   "source": [
    "%%time\n",
    "preds_1 = shallow_trees_with_dynamics_by_month_full(return_preds=True)"
   ]
  },
  {
   "cell_type": "code",
   "execution_count": 36,
   "metadata": {
    "code_folding": [
     0
    ]
   },
   "outputs": [],
   "source": [
    "def shallow_trees_with_dynamics_by_month_lag_full(return_preds=False):\n",
    "    #open data\n",
    "    with open(os.path.join(PATH_TO_DATA, 'train_df_2_csr.pkl'), 'rb') as pkl_f:\n",
    "                X_train = pickle.load(pkl_f)\n",
    "    with open(os.path.join(PATH_TO_DATA, 'test_df_2_csr.pkl'), 'rb') as pkl_f:\n",
    "                X_test = pickle.load(pkl_f)\n",
    "    with open(os.path.join(PATH_TO_DATA, 'target_df.pkl'), 'rb') as pkl_f:\n",
    "                y_train = pickle.load(pkl_f)\n",
    "\n",
    "    #parameters for lgb\n",
    "    params ={'task': 'train',\n",
    "             'objective': 'regression',\n",
    "             'metric': 'rmse',\n",
    "\n",
    "             'feature_fraction': 0.75, #1\n",
    "             'subsample': 0.75, # 1\n",
    "\n",
    "             'learning_rate': 0.025, # 0.1\n",
    "             'max_depth': 7, # -1\n",
    "             'num_leaves': 100,# 31\n",
    "\n",
    "             'reg_alpha': 0, # 0\n",
    "             'reg_lambda': 0, # 0\n",
    "\n",
    "             'min_split_gain': 0, #0\n",
    "             'min_data_in_leaf': 100, #20\n",
    "             'min_sum_hessian_in_leaf': 1e-3, # 1e-3\n",
    "\n",
    "             'verbose': -1,\n",
    "\n",
    "             'num_iterations':10000,\n",
    "             'early_stopping_round':100}\n",
    "\n",
    "    #model training\n",
    "    res, preds = kfold_lightgbm(X_train, y_train, X_test, 3, file=False, params=params)\n",
    "    \n",
    "    #printing results\n",
    "    print('-' * 70)\n",
    "    print('RESULTS:')\n",
    "    print('CV-average RMSE: {}'.format(round(rmse_avg(res), 3)))\n",
    "    print('-' * 70)\n",
    "    \n",
    "    #clearing memory\n",
    "    del X_train, X_test, y_train\n",
    "    gc.collect()\n",
    "    \n",
    "    if return_preds == True:\n",
    "        return preds\n",
    "    \n",
    "    del res, preds\n",
    "    gc.collect()"
   ]
  },
  {
   "cell_type": "code",
   "execution_count": 37,
   "metadata": {
    "code_folding": [],
    "scrolled": true
   },
   "outputs": [
    {
     "name": "stderr",
     "output_type": "stream",
     "text": [
      "\r",
      "0it [00:00, ?it/s]"
     ]
    },
    {
     "name": "stdout",
     "output_type": "stream",
     "text": [
      "Training until validation scores don't improve for 100 rounds.\n",
      "[10]\ttrain's rmse: 3.76609\ttest's rmse: 3.79301\n",
      "[20]\ttrain's rmse: 3.70621\ttest's rmse: 3.75358\n",
      "[30]\ttrain's rmse: 3.66153\ttest's rmse: 3.72668\n",
      "[40]\ttrain's rmse: 3.62769\ttest's rmse: 3.70882\n",
      "[50]\ttrain's rmse: 3.60109\ttest's rmse: 3.69722\n",
      "[60]\ttrain's rmse: 3.57824\ttest's rmse: 3.68933\n",
      "[70]\ttrain's rmse: 3.56032\ttest's rmse: 3.68419\n",
      "[80]\ttrain's rmse: 3.54384\ttest's rmse: 3.6808\n",
      "[90]\ttrain's rmse: 3.52936\ttest's rmse: 3.67741\n",
      "[100]\ttrain's rmse: 3.51589\ttest's rmse: 3.67628\n",
      "[110]\ttrain's rmse: 3.50521\ttest's rmse: 3.67464\n",
      "[120]\ttrain's rmse: 3.49649\ttest's rmse: 3.67315\n",
      "[130]\ttrain's rmse: 3.48829\ttest's rmse: 3.67214\n",
      "[140]\ttrain's rmse: 3.48298\ttest's rmse: 3.67123\n",
      "[150]\ttrain's rmse: 3.47904\ttest's rmse: 3.67056\n",
      "[160]\ttrain's rmse: 3.47534\ttest's rmse: 3.66993\n",
      "[170]\ttrain's rmse: 3.47186\ttest's rmse: 3.66956\n",
      "[180]\ttrain's rmse: 3.4686\ttest's rmse: 3.66925\n",
      "[190]\ttrain's rmse: 3.46555\ttest's rmse: 3.66901\n",
      "[200]\ttrain's rmse: 3.46262\ttest's rmse: 3.66901\n",
      "[210]\ttrain's rmse: 3.46049\ttest's rmse: 3.66918\n",
      "[220]\ttrain's rmse: 3.45772\ttest's rmse: 3.66918\n",
      "[230]\ttrain's rmse: 3.45575\ttest's rmse: 3.66917\n",
      "[240]\ttrain's rmse: 3.45378\ttest's rmse: 3.66918\n",
      "[250]\ttrain's rmse: 3.45199\ttest's rmse: 3.6691\n",
      "[260]\ttrain's rmse: 3.44976\ttest's rmse: 3.66914\n",
      "[270]\ttrain's rmse: 3.44758\ttest's rmse: 3.66896\n",
      "[280]\ttrain's rmse: 3.44505\ttest's rmse: 3.66882\n",
      "[290]\ttrain's rmse: 3.44342\ttest's rmse: 3.66886\n",
      "[300]\ttrain's rmse: 3.44051\ttest's rmse: 3.66868\n",
      "[310]\ttrain's rmse: 3.43833\ttest's rmse: 3.6685\n",
      "[320]\ttrain's rmse: 3.43604\ttest's rmse: 3.66839\n",
      "[330]\ttrain's rmse: 3.43442\ttest's rmse: 3.66839\n",
      "[340]\ttrain's rmse: 3.43264\ttest's rmse: 3.66837\n",
      "[350]\ttrain's rmse: 3.43055\ttest's rmse: 3.66832\n",
      "[360]\ttrain's rmse: 3.42908\ttest's rmse: 3.66834\n",
      "[370]\ttrain's rmse: 3.42716\ttest's rmse: 3.66824\n",
      "[380]\ttrain's rmse: 3.42585\ttest's rmse: 3.66823\n",
      "[390]\ttrain's rmse: 3.42437\ttest's rmse: 3.66805\n",
      "[400]\ttrain's rmse: 3.42308\ttest's rmse: 3.66809\n",
      "[410]\ttrain's rmse: 3.42122\ttest's rmse: 3.66815\n",
      "[420]\ttrain's rmse: 3.41919\ttest's rmse: 3.66832\n",
      "[430]\ttrain's rmse: 3.41751\ttest's rmse: 3.66826\n",
      "[440]\ttrain's rmse: 3.4155\ttest's rmse: 3.66835\n",
      "[450]\ttrain's rmse: 3.41328\ttest's rmse: 3.66833\n",
      "[460]\ttrain's rmse: 3.41148\ttest's rmse: 3.66851\n",
      "[470]\ttrain's rmse: 3.40958\ttest's rmse: 3.66859\n",
      "[480]\ttrain's rmse: 3.40766\ttest's rmse: 3.66866\n",
      "[490]\ttrain's rmse: 3.4058\ttest's rmse: 3.66863\n",
      "[500]\ttrain's rmse: 3.4047\ttest's rmse: 3.66873\n",
      "Early stopping, best iteration is:\n",
      "[404]\ttrain's rmse: 3.42211\ttest's rmse: 3.668\n"
     ]
    },
    {
     "name": "stderr",
     "output_type": "stream",
     "text": [
      "\r",
      "1it [07:05, 425.20s/it]"
     ]
    },
    {
     "name": "stdout",
     "output_type": "stream",
     "text": [
      "Fold 1 RMSE : 3.667999918916529\n",
      "Training until validation scores don't improve for 100 rounds.\n",
      "[10]\ttrain's rmse: 3.75694\ttest's rmse: 3.81131\n",
      "[20]\ttrain's rmse: 3.69931\ttest's rmse: 3.77139\n",
      "[30]\ttrain's rmse: 3.65572\ttest's rmse: 3.7453\n",
      "[40]\ttrain's rmse: 3.62242\ttest's rmse: 3.72837\n",
      "[50]\ttrain's rmse: 3.59608\ttest's rmse: 3.71714\n",
      "[60]\ttrain's rmse: 3.57349\ttest's rmse: 3.70788\n",
      "[70]\ttrain's rmse: 3.55726\ttest's rmse: 3.70213\n",
      "[80]\ttrain's rmse: 3.5414\ttest's rmse: 3.69735\n",
      "[90]\ttrain's rmse: 3.52966\ttest's rmse: 3.69421\n",
      "[100]\ttrain's rmse: 3.5175\ttest's rmse: 3.6913\n",
      "[110]\ttrain's rmse: 3.50805\ttest's rmse: 3.68926\n",
      "[120]\ttrain's rmse: 3.50022\ttest's rmse: 3.68791\n",
      "[130]\ttrain's rmse: 3.49336\ttest's rmse: 3.68666\n",
      "[140]\ttrain's rmse: 3.48747\ttest's rmse: 3.68618\n",
      "[150]\ttrain's rmse: 3.48208\ttest's rmse: 3.68561\n",
      "[160]\ttrain's rmse: 3.47908\ttest's rmse: 3.68537\n",
      "[170]\ttrain's rmse: 3.47434\ttest's rmse: 3.68489\n",
      "[180]\ttrain's rmse: 3.47116\ttest's rmse: 3.68478\n",
      "[190]\ttrain's rmse: 3.46832\ttest's rmse: 3.68457\n",
      "[200]\ttrain's rmse: 3.46557\ttest's rmse: 3.68442\n",
      "[210]\ttrain's rmse: 3.46196\ttest's rmse: 3.6842\n",
      "[220]\ttrain's rmse: 3.45903\ttest's rmse: 3.684\n",
      "[230]\ttrain's rmse: 3.45606\ttest's rmse: 3.68399\n",
      "[240]\ttrain's rmse: 3.45267\ttest's rmse: 3.68385\n",
      "[250]\ttrain's rmse: 3.44963\ttest's rmse: 3.6838\n",
      "[260]\ttrain's rmse: 3.44716\ttest's rmse: 3.6838\n",
      "[270]\ttrain's rmse: 3.4442\ttest's rmse: 3.68389\n",
      "[280]\ttrain's rmse: 3.4414\ttest's rmse: 3.68381\n",
      "[290]\ttrain's rmse: 3.43901\ttest's rmse: 3.68388\n",
      "[300]\ttrain's rmse: 3.43647\ttest's rmse: 3.68382\n",
      "[310]\ttrain's rmse: 3.43384\ttest's rmse: 3.68375\n",
      "[320]\ttrain's rmse: 3.43121\ttest's rmse: 3.6837\n",
      "[330]\ttrain's rmse: 3.42881\ttest's rmse: 3.68382\n",
      "[340]\ttrain's rmse: 3.42561\ttest's rmse: 3.68381\n",
      "[350]\ttrain's rmse: 3.42395\ttest's rmse: 3.68385\n",
      "[360]\ttrain's rmse: 3.4221\ttest's rmse: 3.68393\n",
      "[370]\ttrain's rmse: 3.41948\ttest's rmse: 3.68394\n",
      "[380]\ttrain's rmse: 3.41734\ttest's rmse: 3.68404\n",
      "[390]\ttrain's rmse: 3.41529\ttest's rmse: 3.68396\n",
      "[400]\ttrain's rmse: 3.41316\ttest's rmse: 3.68383\n",
      "[410]\ttrain's rmse: 3.41101\ttest's rmse: 3.684\n",
      "Early stopping, best iteration is:\n",
      "[314]\ttrain's rmse: 3.43235\ttest's rmse: 3.68362\n"
     ]
    },
    {
     "name": "stderr",
     "output_type": "stream",
     "text": [
      "\r",
      "2it [13:43, 417.09s/it]"
     ]
    },
    {
     "name": "stdout",
     "output_type": "stream",
     "text": [
      "Fold 2 RMSE : 3.6836156372524846\n",
      "Training until validation scores don't improve for 100 rounds.\n",
      "[10]\ttrain's rmse: 3.78488\ttest's rmse: 3.76077\n",
      "[20]\ttrain's rmse: 3.72845\ttest's rmse: 3.71901\n",
      "[30]\ttrain's rmse: 3.68496\ttest's rmse: 3.69069\n",
      "[40]\ttrain's rmse: 3.65111\ttest's rmse: 3.67166\n",
      "[50]\ttrain's rmse: 3.62498\ttest's rmse: 3.65891\n",
      "[60]\ttrain's rmse: 3.60332\ttest's rmse: 3.64973\n",
      "[70]\ttrain's rmse: 3.5843\ttest's rmse: 3.6433\n",
      "[80]\ttrain's rmse: 3.57031\ttest's rmse: 3.63845\n",
      "[90]\ttrain's rmse: 3.55711\ttest's rmse: 3.6344\n",
      "[100]\ttrain's rmse: 3.54606\ttest's rmse: 3.63158\n",
      "[110]\ttrain's rmse: 3.53799\ttest's rmse: 3.62944\n",
      "[120]\ttrain's rmse: 3.53052\ttest's rmse: 3.62785\n",
      "[130]\ttrain's rmse: 3.52449\ttest's rmse: 3.62636\n",
      "[140]\ttrain's rmse: 3.51972\ttest's rmse: 3.62554\n",
      "[150]\ttrain's rmse: 3.51415\ttest's rmse: 3.62484\n",
      "[160]\ttrain's rmse: 3.50913\ttest's rmse: 3.62425\n",
      "[170]\ttrain's rmse: 3.50517\ttest's rmse: 3.62372\n",
      "[180]\ttrain's rmse: 3.50124\ttest's rmse: 3.62338\n",
      "[190]\ttrain's rmse: 3.49796\ttest's rmse: 3.62329\n",
      "[200]\ttrain's rmse: 3.49419\ttest's rmse: 3.62302\n",
      "[210]\ttrain's rmse: 3.49078\ttest's rmse: 3.62282\n",
      "[220]\ttrain's rmse: 3.48755\ttest's rmse: 3.6227\n",
      "[230]\ttrain's rmse: 3.48375\ttest's rmse: 3.62262\n",
      "[240]\ttrain's rmse: 3.48085\ttest's rmse: 3.62281\n",
      "[250]\ttrain's rmse: 3.47812\ttest's rmse: 3.62271\n",
      "[260]\ttrain's rmse: 3.47498\ttest's rmse: 3.62281\n",
      "[270]\ttrain's rmse: 3.47237\ttest's rmse: 3.62271\n",
      "[280]\ttrain's rmse: 3.46971\ttest's rmse: 3.62273\n",
      "[290]\ttrain's rmse: 3.46716\ttest's rmse: 3.62292\n",
      "[300]\ttrain's rmse: 3.46447\ttest's rmse: 3.62294\n",
      "[310]\ttrain's rmse: 3.46212\ttest's rmse: 3.62303\n",
      "[320]\ttrain's rmse: 3.45991\ttest's rmse: 3.62306\n",
      "[330]\ttrain's rmse: 3.45696\ttest's rmse: 3.62302\n",
      "Early stopping, best iteration is:\n",
      "[232]\ttrain's rmse: 3.48292\ttest's rmse: 3.62257\n"
     ]
    },
    {
     "name": "stderr",
     "output_type": "stream",
     "text": [
      "\r",
      "3it [19:07, 389.18s/it]"
     ]
    },
    {
     "name": "stdout",
     "output_type": "stream",
     "text": [
      "Fold 3 RMSE : 3.622573487255005\n",
      "----------------------------------------------------------------------\n",
      "RESULTS:\n",
      "CV-average RMSE: 3.658\n",
      "----------------------------------------------------------------------\n",
      "CPU times: user 1h 8min 19s, sys: 2min 28s, total: 1h 10min 48s\n",
      "Wall time: 19min 13s\n"
     ]
    },
    {
     "name": "stderr",
     "output_type": "stream",
     "text": [
      "\n"
     ]
    }
   ],
   "source": [
    "%%time\n",
    "preds_2 = shallow_trees_with_dynamics_by_month_lag_full(return_preds=True)"
   ]
  },
  {
   "cell_type": "code",
   "execution_count": 38,
   "metadata": {},
   "outputs": [],
   "source": [
    "preds = preds_1 * 0.5 + preds_2 * 0.5"
   ]
  },
  {
   "cell_type": "code",
   "execution_count": 39,
   "metadata": {},
   "outputs": [],
   "source": [
    "submission = pd.read_csv(os.path.join(PATH_TO_DATA, 'sample_submission.csv'))\n",
    "submission['target'] = preds\n",
    "submission.to_csv(os.path.join(PATH_TO_DATA, 'submission.csv'), index=False)"
   ]
  },
  {
   "cell_type": "markdown",
   "metadata": {},
   "source": [
    "## Conclusion\n",
    "Please, consider ['Main Takeaways'](#main_takeaways) at the top of the page."
   ]
  }
 ],
 "metadata": {
  "kernelspec": {
   "display_name": "Python 3",
   "language": "python",
   "name": "python3"
  },
  "language_info": {
   "codemirror_mode": {
    "name": "ipython",
    "version": 3
   },
   "file_extension": ".py",
   "mimetype": "text/x-python",
   "name": "python",
   "nbconvert_exporter": "python",
   "pygments_lexer": "ipython3",
   "version": "3.7.1"
  }
 },
 "nbformat": 4,
 "nbformat_minor": 2
}
